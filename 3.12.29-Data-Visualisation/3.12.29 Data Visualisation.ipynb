{
 "cells": [
  {
   "cell_type": "markdown",
   "id": "6e539dd7-a5e3-4c02-8c1e-3a3748a4c88a",
   "metadata": {},
   "source": [
    "# 3.12.29 Data Visualisation"
   ]
  },
  {
   "cell_type": "markdown",
   "id": "c09c4f7e-6406-4bd0-8d81-cb966236af9f",
   "metadata": {},
   "source": [
    "### Data Visualisation"
   ]
  },
  {
   "cell_type": "markdown",
   "id": "f7dd310c-bc29-4522-97f7-dcb6d7141892",
   "metadata": {},
   "source": [
    "As the saying goes, a picture is worth a thousand words. Similarly, **a chart has the potential of conveying a tremendous amount of information** in the space of a postcard. Sometimes a simple table is the best solution to clearly show your data, however, more often than not, **patterns, trends and correlations are hidden** behind the thousands of data points that compose your dataset and might not otherwise be detected.\n",
    "\n",
    "**Tables** are best used for comparison, composition, or relationship analysis when there are **only few variables and data points**. It would not make much sense to create a chart if the data can be easily interpreted from the table.\n",
    "\n",
    "Use tables if:\n",
    "\n",
    "- you need to compare or look up individual, precise values;\n",
    "- the data has to communicate quantitative information, but not trends.\n",
    "\n",
    "Use charts when you need to:\n",
    "\n",
    "- compare aggregates or show trends;\n",
    "- show a relationship between many values."
   ]
  },
  {
   "cell_type": "markdown",
   "id": "64bf9bd0-f442-40c5-8c39-f2e31d47470e",
   "metadata": {},
   "source": [
    "<img src=\"img/charts.png\" width=\"600\">"
   ]
  },
  {
   "cell_type": "markdown",
   "id": "4fce64ba-45a6-4213-9478-2e82b343757a",
   "metadata": {},
   "source": [
    "There are many different chart types, each of which has its strenghts and weaknesses and is more or less fit to be used in a certain context; let's see a few basic examples:\n",
    "\n",
    "- **bar charts** are good for comparisons \n",
    "- **line charts** work better for trends \n",
    "- **scatter plots** are good for relationships and distributions"
   ]
  },
  {
   "cell_type": "markdown",
   "id": "a18e36dd-b176-464f-abab-7a8e66707417",
   "metadata": {},
   "source": [
    "Python offers many **data visualisation libraries**, filled with lots of different features that allow you to create different types of highly customizable as well as interactive plots. `pandas` itself has some basic graphing functionalities that are based on the `matplotlib` graphing library, one of the most used and known plotting libraries in Python. Other great data visualisation libraries in the Python ecosystem are `plotly`, `seaborne`, `bokeh` and many more; check out [this web page](https://mode.com/blog/python-data-visualization-libraries/) for a list of more libraries and information on each one of them. "
   ]
  },
  {
   "cell_type": "markdown",
   "id": "e5108038-4973-47cd-88f6-fb6958e833cd",
   "metadata": {},
   "source": [
    "### Matplotlib"
   ]
  },
  {
   "cell_type": "markdown",
   "id": "7b749c25-9a88-4cb3-9163-76e894b90080",
   "metadata": {},
   "source": [
    "Let's begin by importing all the necessary libraries; notice that we specifically import the `matplotlib.pyplot` module and give it a shortcut alias `plt`. Also, make sure to include and run the `%matplotlib inline` magic command to enable plotting in the current Notebook. \n",
    "\n",
    "Check out [this page](https://matplotlib.org/stable/tutorials/index.html) on the official Matplotlib website for a starting point to learn more about this library. "
   ]
  },
  {
   "cell_type": "code",
   "execution_count": 1,
   "id": "0c0bfcd5-a240-408d-8267-dceffc7c0803",
   "metadata": {},
   "outputs": [],
   "source": [
    "import numpy as np\n",
    "import pandas as pd\n",
    "\n",
    "%matplotlib inline\n",
    "import matplotlib\n",
    "import matplotlib.pyplot as plt"
   ]
  },
  {
   "cell_type": "markdown",
   "id": "792c7a32-8172-48d2-951a-87b712ac5c2e",
   "metadata": {},
   "source": [
    "Let's start by creating a simple DataFrame with fictitious data, it will show two random numerical variables over the span of 10 years: "
   ]
  },
  {
   "cell_type": "code",
   "execution_count": 2,
   "id": "97b65836-5087-4f32-b958-e44a90bc64ee",
   "metadata": {},
   "outputs": [
    {
     "data": {
      "text/html": [
       "<div>\n",
       "<style scoped>\n",
       "    .dataframe tbody tr th:only-of-type {\n",
       "        vertical-align: middle;\n",
       "    }\n",
       "\n",
       "    .dataframe tbody tr th {\n",
       "        vertical-align: top;\n",
       "    }\n",
       "\n",
       "    .dataframe thead th {\n",
       "        text-align: right;\n",
       "    }\n",
       "</style>\n",
       "<table border=\"1\" class=\"dataframe\">\n",
       "  <thead>\n",
       "    <tr style=\"text-align: right;\">\n",
       "      <th></th>\n",
       "      <th>year</th>\n",
       "      <th>price_base</th>\n",
       "      <th>price_full</th>\n",
       "    </tr>\n",
       "  </thead>\n",
       "  <tbody>\n",
       "    <tr>\n",
       "      <th>0</th>\n",
       "      <td>2011</td>\n",
       "      <td>29</td>\n",
       "      <td>59</td>\n",
       "    </tr>\n",
       "    <tr>\n",
       "      <th>1</th>\n",
       "      <td>2012</td>\n",
       "      <td>20</td>\n",
       "      <td>59</td>\n",
       "    </tr>\n",
       "    <tr>\n",
       "      <th>2</th>\n",
       "      <td>2013</td>\n",
       "      <td>20</td>\n",
       "      <td>67</td>\n",
       "    </tr>\n",
       "    <tr>\n",
       "      <th>3</th>\n",
       "      <td>2014</td>\n",
       "      <td>37</td>\n",
       "      <td>53</td>\n",
       "    </tr>\n",
       "    <tr>\n",
       "      <th>4</th>\n",
       "      <td>2015</td>\n",
       "      <td>38</td>\n",
       "      <td>63</td>\n",
       "    </tr>\n",
       "    <tr>\n",
       "      <th>5</th>\n",
       "      <td>2016</td>\n",
       "      <td>35</td>\n",
       "      <td>54</td>\n",
       "    </tr>\n",
       "    <tr>\n",
       "      <th>6</th>\n",
       "      <td>2017</td>\n",
       "      <td>29</td>\n",
       "      <td>67</td>\n",
       "    </tr>\n",
       "    <tr>\n",
       "      <th>7</th>\n",
       "      <td>2018</td>\n",
       "      <td>25</td>\n",
       "      <td>66</td>\n",
       "    </tr>\n",
       "    <tr>\n",
       "      <th>8</th>\n",
       "      <td>2019</td>\n",
       "      <td>28</td>\n",
       "      <td>57</td>\n",
       "    </tr>\n",
       "    <tr>\n",
       "      <th>9</th>\n",
       "      <td>2020</td>\n",
       "      <td>25</td>\n",
       "      <td>57</td>\n",
       "    </tr>\n",
       "  </tbody>\n",
       "</table>\n",
       "</div>"
      ],
      "text/plain": [
       "   year  price_base  price_full\n",
       "0  2011          29          59\n",
       "1  2012          20          59\n",
       "2  2013          20          67\n",
       "3  2014          37          53\n",
       "4  2015          38          63\n",
       "5  2016          35          54\n",
       "6  2017          29          67\n",
       "7  2018          25          66\n",
       "8  2019          28          57\n",
       "9  2020          25          57"
      ]
     },
     "execution_count": 2,
     "metadata": {},
     "output_type": "execute_result"
    }
   ],
   "source": [
    "df = pd.DataFrame({'year' : range(2011, 2021), \n",
    "                   'price_base' : np.random.randint(20, 40, 10), \n",
    "                   'price_full' : np.random.randint(50, 70, 10)})\n",
    "df"
   ]
  },
  {
   "cell_type": "markdown",
   "id": "463c2893-d049-4172-8745-59b9e5a9a01e",
   "metadata": {},
   "source": [
    "To begin with, let's **create a simple line chart**; to do that, we call the `plt.plot()` function and **pass it the x and y axes**, respectively: "
   ]
  },
  {
   "cell_type": "code",
   "execution_count": null,
   "id": "8c33aebf-4829-4c71-a8cf-66d80d96d7ac",
   "metadata": {},
   "outputs": [],
   "source": [
    "plt.plot(df['year'], df['price_base'])"
   ]
  },
  {
   "cell_type": "markdown",
   "id": "93779e35-329f-416e-89c9-3a450cc6a11b",
   "metadata": {},
   "source": [
    "Since our data comes from a DataFrame (that is, an object with labelled data), we can write directly the column names and specify the DataFrame name with the `data=` parameter: "
   ]
  },
  {
   "cell_type": "code",
   "execution_count": null,
   "id": "3a130dff-11dc-4c69-9f4d-c588533a04b3",
   "metadata": {},
   "outputs": [],
   "source": [
    "plt.plot('year', 'price_base', data=df)"
   ]
  },
  {
   "cell_type": "markdown",
   "id": "811632f6-dac0-41a9-812e-42a69a560653",
   "metadata": {},
   "source": [
    "#### Axes Labels"
   ]
  },
  {
   "cell_type": "markdown",
   "id": "641935fa-a9b5-4dec-b66b-4f9f8b7ed5a7",
   "metadata": {},
   "source": [
    "This output is what we were after, although it is a little barebone; let's **add the axes' labels**; to do this, we can just build on top of the existing plt object via the `.xlabel` and `.ylabel` methods. Notice also the `plt.show()` command at the end that shows the chart without printing Python's internal outputs: "
   ]
  },
  {
   "cell_type": "code",
   "execution_count": null,
   "id": "10a68e0d-1c37-44ea-a0bd-d03866353f2f",
   "metadata": {},
   "outputs": [],
   "source": [
    "plt.plot('year', 'price_base', data=df)\n",
    "plt.xlabel('Year')\n",
    "plt.ylabel('Price')\n",
    "plt.show()"
   ]
  },
  {
   "cell_type": "markdown",
   "id": "c8787e88-f34e-48f3-964f-3e0de933b8dd",
   "metadata": {},
   "source": [
    "#### Multiple Elements"
   ]
  },
  {
   "cell_type": "markdown",
   "id": "dead4682-3759-486a-99cc-7198dcccfbfc",
   "metadata": {},
   "source": [
    "If we wanted to **add a new line to the chart**, like `price_full`, we could simply add another `plt.plot()` function and basically write a new line on top of the existing chart:"
   ]
  },
  {
   "cell_type": "code",
   "execution_count": null,
   "id": "540041a2-c9e4-4875-9072-2ad01e60a27b",
   "metadata": {},
   "outputs": [],
   "source": [
    "plt.plot('year', 'price_base', data=df)   # add first line\n",
    "plt.plot('year', 'price_full', data=df)   # add second line\n",
    "plt.xlabel('Year')   # add label on x-axis\n",
    "plt.ylabel('Price')  # add label on y-axis\n",
    "plt.show()   # show the chart"
   ]
  },
  {
   "cell_type": "markdown",
   "id": "862f72a5-e682-4479-9c6c-91f5dc87a45d",
   "metadata": {},
   "source": [
    "#### Legend"
   ]
  },
  {
   "cell_type": "markdown",
   "id": "6aaf18a9-6e1a-402e-be94-94dd4a8a553d",
   "metadata": {},
   "source": [
    "Now, you may have noticed that **there is no legend**, which means that someone seeing this for the first time wouldn't know the difference between the orange and the blue lines. Before adding the legend with `plt.legend()`, let's add a `label` parameter to each series and extend the y-axis with `plt.ylim()`: "
   ]
  },
  {
   "cell_type": "code",
   "execution_count": null,
   "id": "be1672bf-90f8-48cf-88e7-d5de85617080",
   "metadata": {},
   "outputs": [],
   "source": [
    "plt.plot('year', 'price_base', data=df, label='base')   # add a label to the series\n",
    "plt.plot('year', 'price_full', data=df, label='full')   # add a label to the series\n",
    "plt.xlabel('Year')\n",
    "plt.ylabel('Price')\n",
    "plt.legend(loc=\"lower right\")   # add the legend and specify position\n",
    "plt.ylim(0,80)   # extending the range of the y-axis \n",
    "plt.show()"
   ]
  },
  {
   "cell_type": "markdown",
   "id": "d076afbb-96f8-46e4-8cd8-58f5236d6fb2",
   "metadata": {},
   "source": [
    "#### Themes"
   ]
  },
  {
   "cell_type": "markdown",
   "id": "f8b747bd-841a-4633-8f8d-5858573110b4",
   "metadata": {},
   "source": [
    "The default theme of `matplotlib` is quite blunt but luckily **there are several built-in styles** that available and can be easily activated via the `plt.style.use()` function. Check out [this page](https://www.dunderdata.com/blog/view-all-available-matplotlib-styles) for a list and examples of all available themes."
   ]
  },
  {
   "cell_type": "code",
   "execution_count": null,
   "id": "47851c44-2cca-4da5-a607-ba87719b3708",
   "metadata": {},
   "outputs": [],
   "source": [
    "plt.style.use('seaborn')"
   ]
  },
  {
   "cell_type": "code",
   "execution_count": null,
   "id": "2efd6e5c-0ab9-4fce-8a1d-d8597b942170",
   "metadata": {},
   "outputs": [],
   "source": [
    "plt.plot('year', 'price_base', data=df, label='base')   # add a label to the series\n",
    "plt.plot('year', 'price_full', data=df, label='full')   # add a label to the series\n",
    "plt.xlabel('Year')\n",
    "plt.ylabel('Price')\n",
    "plt.legend(loc=\"lower right\")   # add the legend and specify position\n",
    "plt.ylim(0,80)   # extending the range of the y-axis \n",
    "plt.show()"
   ]
  },
  {
   "cell_type": "markdown",
   "id": "213a327d-52b6-4b4e-9c69-45f8941f469f",
   "metadata": {},
   "source": [
    "#### Colours"
   ]
  },
  {
   "cell_type": "markdown",
   "id": "5064c01a-d7b9-4a07-b038-28503592667c",
   "metadata": {},
   "source": [
    "You may have noticed that the **default colours** of the lines have changed, this is of course because we changed the theme, so let's see **how we can change the style of each individual line** element. Check out the *Notes* section of this [documentation page](https://matplotlib.org/stable/api/_as_gen/matplotlib.pyplot.plot.html) for more on formatting options. "
   ]
  },
  {
   "cell_type": "code",
   "execution_count": null,
   "id": "512b15da-0c6a-4b59-9186-bc374f77b28d",
   "metadata": {},
   "outputs": [],
   "source": [
    "plt.plot('year', 'price_base', 'r', data=df, label='base')   # change colour\n",
    "plt.plot('year', 'price_full', '--k', data=df, label='full')   # change colour and line style\n",
    "plt.xlabel('Year')\n",
    "plt.ylabel('Price')\n",
    "plt.legend(loc=\"lower right\")   # add the legend and specify position\n",
    "plt.ylim(0,80)   # extending the range of the y-axis \n",
    "\n",
    "plt.show()"
   ]
  },
  {
   "cell_type": "markdown",
   "id": "7ae3a9a7-605c-42c7-b5f3-95af7848e413",
   "metadata": {},
   "source": [
    "#### More Chart Types"
   ]
  },
  {
   "cell_type": "markdown",
   "id": "ba8137b0-a419-40fe-84e7-90b1e4340d02",
   "metadata": {},
   "source": [
    "Instead of plotting two lines, we can specify to show a series of dots for the first column and a line for the second by replacing `plt.plot()` with `plt.scatter()`:"
   ]
  },
  {
   "cell_type": "code",
   "execution_count": null,
   "id": "2afc7536-d8a1-43fa-8c38-f4f67acab55b",
   "metadata": {},
   "outputs": [],
   "source": [
    "plt.plot('year', 'price_base', data=df, label='base')      # line chart\n",
    "plt.scatter('year', 'price_full', data=df, label='full')   # scatterplot\n",
    "plt.xlabel('Year')\n",
    "plt.ylabel('Price')\n",
    "plt.legend(loc=\"lower right\")   # add the legend and specify position\n",
    "plt.ylim(0,80)   # extending the range of the y-axis \n",
    "\n",
    "plt.show()"
   ]
  },
  {
   "cell_type": "markdown",
   "id": "e2cdf369-177c-4d0b-83a6-e0b1514c4093",
   "metadata": {},
   "source": [
    "Let's load the `iris` dataset which is a bit more structured and complex:"
   ]
  },
  {
   "cell_type": "code",
   "execution_count": 6,
   "id": "337d4b49-aa5d-4f36-9c0d-36f3e2a969e8",
   "metadata": {},
   "outputs": [
    {
     "data": {
      "text/html": [
       "<div>\n",
       "<style scoped>\n",
       "    .dataframe tbody tr th:only-of-type {\n",
       "        vertical-align: middle;\n",
       "    }\n",
       "\n",
       "    .dataframe tbody tr th {\n",
       "        vertical-align: top;\n",
       "    }\n",
       "\n",
       "    .dataframe thead th {\n",
       "        text-align: right;\n",
       "    }\n",
       "</style>\n",
       "<table border=\"1\" class=\"dataframe\">\n",
       "  <thead>\n",
       "    <tr style=\"text-align: right;\">\n",
       "      <th></th>\n",
       "      <th>sepal.length</th>\n",
       "      <th>sepal.width</th>\n",
       "      <th>petal.length</th>\n",
       "      <th>petal.width</th>\n",
       "      <th>variety</th>\n",
       "    </tr>\n",
       "  </thead>\n",
       "  <tbody>\n",
       "    <tr>\n",
       "      <th>0</th>\n",
       "      <td>5.1</td>\n",
       "      <td>3.5</td>\n",
       "      <td>1.4</td>\n",
       "      <td>0.2</td>\n",
       "      <td>Setosa</td>\n",
       "    </tr>\n",
       "    <tr>\n",
       "      <th>1</th>\n",
       "      <td>4.9</td>\n",
       "      <td>3.0</td>\n",
       "      <td>1.4</td>\n",
       "      <td>0.2</td>\n",
       "      <td>Setosa</td>\n",
       "    </tr>\n",
       "    <tr>\n",
       "      <th>2</th>\n",
       "      <td>4.7</td>\n",
       "      <td>3.2</td>\n",
       "      <td>1.3</td>\n",
       "      <td>0.2</td>\n",
       "      <td>Setosa</td>\n",
       "    </tr>\n",
       "    <tr>\n",
       "      <th>3</th>\n",
       "      <td>4.6</td>\n",
       "      <td>3.1</td>\n",
       "      <td>1.5</td>\n",
       "      <td>0.2</td>\n",
       "      <td>Setosa</td>\n",
       "    </tr>\n",
       "    <tr>\n",
       "      <th>4</th>\n",
       "      <td>5.0</td>\n",
       "      <td>3.6</td>\n",
       "      <td>1.4</td>\n",
       "      <td>0.2</td>\n",
       "      <td>Setosa</td>\n",
       "    </tr>\n",
       "  </tbody>\n",
       "</table>\n",
       "</div>"
      ],
      "text/plain": [
       "   sepal.length  sepal.width  petal.length  petal.width variety\n",
       "0           5.1          3.5           1.4          0.2  Setosa\n",
       "1           4.9          3.0           1.4          0.2  Setosa\n",
       "2           4.7          3.2           1.3          0.2  Setosa\n",
       "3           4.6          3.1           1.5          0.2  Setosa\n",
       "4           5.0          3.6           1.4          0.2  Setosa"
      ]
     },
     "execution_count": 6,
     "metadata": {},
     "output_type": "execute_result"
    }
   ],
   "source": [
    "iris = pd.read_csv(\"data/iris.csv\")\n",
    "iris.head()"
   ]
  },
  {
   "cell_type": "markdown",
   "id": "d8d7dd0d-421b-47a5-ae32-4b6e82d4ab1a",
   "metadata": {},
   "source": [
    "**Bar Chart**"
   ]
  },
  {
   "cell_type": "markdown",
   "id": "005d623a-49f2-459a-9c99-e9b823debf04",
   "metadata": {},
   "source": [
    "If we want to **compare** the average `petal.length` across each Iris `variety`, we can **use a bar chart**, but first we need to group the data accordingly and then we can plot it using the `plt.bar()` function. "
   ]
  },
  {
   "cell_type": "code",
   "execution_count": null,
   "id": "03e199b8-b71e-4be4-8bfa-07a516320f4c",
   "metadata": {},
   "outputs": [],
   "source": [
    "iris.groupby('variety', as_index=False)['petal.length'].mean()"
   ]
  },
  {
   "cell_type": "code",
   "execution_count": null,
   "id": "d57cfa73-ff07-45bc-a1a8-076853588a21",
   "metadata": {},
   "outputs": [],
   "source": [
    "plt.bar('variety', 'petal.length', width=0.4, data=iris.groupby('variety', as_index=False)['petal.length'].mean())\n",
    "plt.title('Avg. Petal Length by Iris variety')   # to add a title\n",
    "plt.show()"
   ]
  },
  {
   "cell_type": "markdown",
   "id": "43be43d0-23a3-4b31-9d48-8356d1ef7594",
   "metadata": {},
   "source": [
    "If, instead, you want to generate a **horizontal bar chart**, just use the `plt.barh` function: "
   ]
  },
  {
   "cell_type": "code",
   "execution_count": null,
   "id": "c45761c6-0277-45f8-b619-cdad666d8d82",
   "metadata": {},
   "outputs": [],
   "source": [
    "plt.barh('variety', 'petal.length', height=0.4, data=iris.groupby('variety', as_index=False)['petal.length'].mean())\n",
    "plt.title('Avg. Petal Length by Iris variety')   # to add a title\n",
    "plt.show()"
   ]
  },
  {
   "cell_type": "markdown",
   "id": "9a852eef-99f5-49c9-aed4-a51b627c88de",
   "metadata": {},
   "source": [
    "**Scatterplot**"
   ]
  },
  {
   "cell_type": "markdown",
   "id": "f3ff0864-3fa0-4b44-914d-e3cab421cde2",
   "metadata": {},
   "source": [
    "We can use the `plt.scatter()` function to show the **relationship** between the `petal.length` and the `petal.width`:"
   ]
  },
  {
   "cell_type": "code",
   "execution_count": null,
   "id": "5ec0271c-00f4-44a2-805c-5328d6a6cece",
   "metadata": {},
   "outputs": [],
   "source": [
    "plt.scatter('petal.length', 'petal.width', data=iris)\n",
    "plt.title('Petal lenght by petal width')\n",
    "plt.xlabel('Petal length')\n",
    "plt.ylabel('Petal width')\n",
    "plt.show()"
   ]
  },
  {
   "cell_type": "markdown",
   "id": "b4825889-6b44-4c4c-a2ee-22079b768b12",
   "metadata": {},
   "source": [
    "Now, as you can see from the code below, if we now wanted to differentiate the Iris varaieties using three different colours, it wouldn't be such an easy and straightforward task in `matplotlib`: "
   ]
  },
  {
   "cell_type": "code",
   "execution_count": null,
   "id": "65137f32-4542-4d28-a295-8152ba4d3ce6",
   "metadata": {},
   "outputs": [],
   "source": [
    "# create color dictionary\n",
    "colors = {'Setosa':'r', 'Versicolor':'g', 'Virginica':'b'}\n",
    "# create a figure and axis\n",
    "fig, ax = plt.subplots()\n",
    "# plot each data-point\n",
    "for i in range(len(iris['petal.length'])):\n",
    "    ax.scatter(iris['petal.length'][i], iris['petal.width'][i],color=colors[iris['variety'][i]])\n",
    "# set a title and labels\n",
    "ax.set_title('Petal Length vs Petal Width by Iris Variety')\n",
    "ax.set_xlabel('petal.length')\n",
    "ax.set_ylabel('petal.width')"
   ]
  },
  {
   "cell_type": "markdown",
   "id": "583a586f-5306-4288-8060-7bdb00fd3edf",
   "metadata": {},
   "source": [
    "As you can see, we were able to do it, but we had to cycle through each data point and \"paint\" each individual value on our canvas. Luckily there are other Python libraries that allow us to plot the data that comes from structured DataFrames like ours in a much simpler way. \n",
    "\n",
    "One of them is `Seaborn`, let's see how it works. "
   ]
  },
  {
   "cell_type": "markdown",
   "id": "143d57a9-1830-4976-afad-fd32ebe2444c",
   "metadata": {
    "tags": []
   },
   "source": [
    "### Seaborn"
   ]
  },
  {
   "cell_type": "markdown",
   "id": "3eda78a7-9187-4006-a0f6-ffd9b7534792",
   "metadata": {},
   "source": [
    "Seaborn is a Python **data visualization library** which is based on Matplotlib. It can create graphs in one line that would take multiple tens of lines in Matplotlib. Its default themes are **visually appealing** and it **integrates well with Pandas dataframes**. \n",
    "\n",
    "Check out [this page](https://seaborn.pydata.org/tutorial.html) on the official Seaborn website for a starting point to learn more about this library. \n",
    "\n",
    "The Seaborn functions you can use to plot charts are divided into three generic-purpose modules, called **figure-level** functions (`sns.relplot()`, `sns.displot()` and `sns.catplot()`), which can be used to create most of the plots that you'll need. Within each of these modules, you can find more \"chart-specific\" functions, called **axex-level** functions. You can find more detailed information about figure- and axes-level functions in this [official tutorial](https://seaborn.pydata.org/tutorial/function_overview.html) as well as in this [medium article](https://towardsdatascience.com/a-major-seaborn-plotting-tip-i-wish-i-had-learned-earlier-d8209ad0a20e). \n",
    "\n",
    "The following picture gives a clear representation of the three macro-modules and their spcialised sub-functions. \n",
    "\n",
    "<img src=\"img/seaborn-charts.png\" width=\"600\">\n",
    "\n",
    "Make sure to check out this [gallery page](https://seaborn.pydata.org/examples/index.html) containing examples of the different charts you can plot using this library."
   ]
  },
  {
   "cell_type": "markdown",
   "id": "4b815ee7-ae75-4049-9969-8dc58d359271",
   "metadata": {},
   "source": [
    " "
   ]
  },
  {
   "cell_type": "code",
   "execution_count": 4,
   "id": "8bbce107-50dc-4ed6-8dbf-2cf325dd56ef",
   "metadata": {},
   "outputs": [],
   "source": [
    "# import the library as sns\n",
    "import matplotlib.pyplot as plt\n",
    "import seaborn as sns"
   ]
  },
  {
   "cell_type": "markdown",
   "id": "6871527c-7d89-4563-819e-cb78b21a7fd0",
   "metadata": {},
   "source": [
    "#### Scatter Plot"
   ]
  },
  {
   "cell_type": "markdown",
   "id": "ef54f478-1c36-4028-b3ec-3bf9377f20c0",
   "metadata": {},
   "source": [
    "This is how you **create a scatterplot** in Seaborn (notice how it **automatically generated labels** on the x and y axes):"
   ]
  },
  {
   "cell_type": "code",
   "execution_count": 7,
   "id": "b0ca61a7-a6d1-4e6b-b1ef-c296a7bb0dd7",
   "metadata": {},
   "outputs": [
    {
     "data": {
      "text/plain": [
       "<AxesSubplot:xlabel='sepal.length', ylabel='sepal.width'>"
      ]
     },
     "execution_count": 7,
     "metadata": {},
     "output_type": "execute_result"
    },
    {
     "data": {
      "image/png": "[encoded data removed]",
      "text/plain": [
       "<Figure size 432x288 with 1 Axes>"
      ]
     },
     "metadata": {
      "needs_background": "light"
     },
     "output_type": "display_data"
    }
   ],
   "source": [
    "sns.scatterplot(x='sepal.length', y='sepal.width', data=iris)"
   ]
  },
  {
   "cell_type": "markdown",
   "id": "e5a6ff97-7ca3-403f-b644-25cf608f7f95",
   "metadata": {},
   "source": [
    "And this is how you **add the colour** based on the type of `variety`; as you can see, we were able to achieve in one line what required several lines and a for loop in Matplotlib (and it also **generated a legend** automatically): "
   ]
  },
  {
   "cell_type": "code",
   "execution_count": null,
   "id": "0ac2955d-dd68-443a-96ae-14dcab490b8d",
   "metadata": {},
   "outputs": [],
   "source": [
    "sns.scatterplot(x='sepal.length', y='sepal.width', hue='variety', data=iris)"
   ]
  },
  {
   "cell_type": "markdown",
   "id": "0a7a635b-092e-41e7-9924-dc0234a90fef",
   "metadata": {},
   "source": [
    "#### Seaborn Datasets"
   ]
  },
  {
   "cell_type": "markdown",
   "id": "f94fde7d-bc2c-4711-b3a2-81bcc24b9c4c",
   "metadata": {},
   "source": [
    "Seaborn comes pre-loaded with some example datasets; you can see a list of all of them via the `sns.get_dataset_names()` function. If you want to load one of them, use the `sns.load_dataset()` function instead."
   ]
  },
  {
   "cell_type": "code",
   "execution_count": 12,
   "id": "deb7766b-cd52-4cb3-9d42-665fc9035ec0",
   "metadata": {},
   "outputs": [
    {
     "data": {
      "text/plain": [
       "['anagrams',\n",
       " 'anscombe',\n",
       " 'attention',\n",
       " 'brain_networks',\n",
       " 'car_crashes',\n",
       " 'diamonds',\n",
       " 'dots',\n",
       " 'exercise',\n",
       " 'flights',\n",
       " 'fmri',\n",
       " 'gammas',\n",
       " 'geyser',\n",
       " 'iris',\n",
       " 'mpg',\n",
       " 'penguins',\n",
       " 'planets',\n",
       " 'taxis',\n",
       " 'tips',\n",
       " 'titanic']"
      ]
     },
     "execution_count": 12,
     "metadata": {},
     "output_type": "execute_result"
    }
   ],
   "source": [
    "sns.get_dataset_names()"
   ]
  },
  {
   "cell_type": "markdown",
   "id": "50522018-e940-491a-bd5d-887bfb6cae16",
   "metadata": {},
   "source": [
    "Let's load the `flights` dataset: "
   ]
  },
  {
   "cell_type": "code",
   "execution_count": 13,
   "id": "30aad152-2071-48ec-9e4f-3b5247b18e1e",
   "metadata": {},
   "outputs": [
    {
     "data": {
      "text/html": [
       "<div>\n",
       "<style scoped>\n",
       "    .dataframe tbody tr th:only-of-type {\n",
       "        vertical-align: middle;\n",
       "    }\n",
       "\n",
       "    .dataframe tbody tr th {\n",
       "        vertical-align: top;\n",
       "    }\n",
       "\n",
       "    .dataframe thead th {\n",
       "        text-align: right;\n",
       "    }\n",
       "</style>\n",
       "<table border=\"1\" class=\"dataframe\">\n",
       "  <thead>\n",
       "    <tr style=\"text-align: right;\">\n",
       "      <th></th>\n",
       "      <th>year</th>\n",
       "      <th>month</th>\n",
       "      <th>passengers</th>\n",
       "    </tr>\n",
       "  </thead>\n",
       "  <tbody>\n",
       "    <tr>\n",
       "      <th>0</th>\n",
       "      <td>1949</td>\n",
       "      <td>Jan</td>\n",
       "      <td>112</td>\n",
       "    </tr>\n",
       "    <tr>\n",
       "      <th>1</th>\n",
       "      <td>1949</td>\n",
       "      <td>Feb</td>\n",
       "      <td>118</td>\n",
       "    </tr>\n",
       "    <tr>\n",
       "      <th>2</th>\n",
       "      <td>1949</td>\n",
       "      <td>Mar</td>\n",
       "      <td>132</td>\n",
       "    </tr>\n",
       "    <tr>\n",
       "      <th>3</th>\n",
       "      <td>1949</td>\n",
       "      <td>Apr</td>\n",
       "      <td>129</td>\n",
       "    </tr>\n",
       "    <tr>\n",
       "      <th>4</th>\n",
       "      <td>1949</td>\n",
       "      <td>May</td>\n",
       "      <td>121</td>\n",
       "    </tr>\n",
       "  </tbody>\n",
       "</table>\n",
       "</div>"
      ],
      "text/plain": [
       "   year month  passengers\n",
       "0  1949   Jan         112\n",
       "1  1949   Feb         118\n",
       "2  1949   Mar         132\n",
       "3  1949   Apr         129\n",
       "4  1949   May         121"
      ]
     },
     "execution_count": 13,
     "metadata": {},
     "output_type": "execute_result"
    }
   ],
   "source": [
    "flights = sns.load_dataset('flights')\n",
    "flights.head()"
   ]
  },
  {
   "cell_type": "markdown",
   "id": "ecb01deb-44aa-4e44-91e5-c2ed2e017f08",
   "metadata": {},
   "source": [
    "#### Line Chart"
   ]
  },
  {
   "cell_type": "markdown",
   "id": "476d2b5e-0d88-4372-be8f-239a765f2b15",
   "metadata": {},
   "source": [
    "Let's say we're interested in looking how the number of passengers has changed across the years, we can use the `sns.lieplot()` [function](https://seaborn.pydata.org/generated/seaborn.lineplot.html), which plots a **line chart** and requires the usual x and y variables as well as the dataset as inputs:"
   ]
  },
  {
   "cell_type": "code",
   "execution_count": null,
   "id": "2125efac-cfb3-4111-9135-f5849b3d5aa7",
   "metadata": {},
   "outputs": [],
   "source": [
    "sns.lineplot(x='year', y='passengers', data=flights)"
   ]
  },
  {
   "cell_type": "markdown",
   "id": "5198a927-459c-4403-9b30-0046c8d7aaa4",
   "metadata": {},
   "source": [
    "In Seaborn it's very easy to introduce a new dimension to the plot. Let's say we want to **break down the line plot above by month**, so to show a new line for each month of the year; this can be easily achieved by assigning the `month` variable to the `hue` parameter: "
   ]
  },
  {
   "cell_type": "code",
   "execution_count": null,
   "id": "707a7f97-ee62-4b7f-9a3e-84382e977387",
   "metadata": {},
   "outputs": [],
   "source": [
    "sns.lineplot(x='year', y='passengers', hue='month', data=flights)"
   ]
  },
  {
   "cell_type": "markdown",
   "id": "54775557-3e27-418f-aa44-45f15d882f76",
   "metadata": {},
   "source": [
    "#### Bar Chart"
   ]
  },
  {
   "cell_type": "markdown",
   "id": "0373fdbb-5787-4140-beac-03da827014be",
   "metadata": {},
   "source": [
    "A **bar chart** can be created using the `sns.barplot()` function:"
   ]
  },
  {
   "cell_type": "code",
   "execution_count": 14,
   "id": "4635a573-3e12-4c65-9edd-6846bf106b7f",
   "metadata": {},
   "outputs": [
    {
     "data": {
      "text/plain": [
       "<AxesSubplot:xlabel='month', ylabel='passengers'>"
      ]
     },
     "execution_count": 14,
     "metadata": {},
     "output_type": "execute_result"
    },
    {
     "data": {
      "image/png": "[encoded data removed]",
      "text/plain": [
       "<Figure size 432x288 with 1 Axes>"
      ]
     },
     "metadata": {
      "needs_background": "light"
     },
     "output_type": "display_data"
    }
   ],
   "source": [
    "sns.barplot(x='month', y='passengers', data=flights)"
   ]
  },
  {
   "cell_type": "markdown",
   "id": "203080f3-13fc-4bb8-92da-c1c6ed4063a4",
   "metadata": {},
   "source": [
    "By default, Seaborn adds *95% confidnce interval bars* (don't worry about them for now) and *assigns a different colour to each bar*. We're not interested in confidence bars and painting each bar of a different color adds no information to the chart and distracts the attention from the actual data, so let' remove the confidence bars with the parameter `ci=None` and let's assign a cyan colour to all bars via the `color='c'` parameter. "
   ]
  },
  {
   "cell_type": "code",
   "execution_count": null,
   "id": "5af636b8-d29a-49c9-bae2-33a3802a8152",
   "metadata": {},
   "outputs": [],
   "source": [
    "sns.barplot(x='month', y='passengers', data=flights, ci=None, color='c')"
   ]
  },
  {
   "cell_type": "markdown",
   "id": "10b5d933-c8fa-45ed-acd5-61931c6e5bf3",
   "metadata": {},
   "source": [
    "To change the orientation of the chart and thus obtain a **horizontal bar chart**, you can simply swap the variable that you include in the x and y parameters of the `sns.barplot()` function: "
   ]
  },
  {
   "cell_type": "code",
   "execution_count": null,
   "id": "bb392e2c-31dc-4343-bd83-03b23e3c5f48",
   "metadata": {},
   "outputs": [],
   "source": [
    "ax = sns.barplot(x='passengers', y='month', data=flights, ci=None, color='c')\n",
    "plt.show()"
   ]
  },
  {
   "cell_type": "markdown",
   "id": "4cd0ccfd-c57a-4424-8ec9-2a80208fcb11",
   "metadata": {},
   "source": [
    "If we just want to do a **count of the number of observations** in each category of a certain variable and visualise it with a bar chart, we can use the `sns.countplot()` function. Let's load the `tips` dataset to show how many tables with 1, 2, 3, ... seats (the table size is shown in the `size` column) there are in the dataset: "
   ]
  },
  {
   "cell_type": "code",
   "execution_count": null,
   "id": "105b7c3f-1a5b-4fe2-883e-fa830a4ed89c",
   "metadata": {},
   "outputs": [],
   "source": [
    "sns.load_dataset('tips').head()"
   ]
  },
  {
   "cell_type": "markdown",
   "id": "c21d9b04-6988-4c93-9776-42af0fd965b1",
   "metadata": {},
   "source": [
    "Notice how we can specify the title, xlabel and ylabel via the `.set()` method. Also, when displaying a chart, you can omit Seaborn's output comments using `plt.show()` (but you neet to have run `import matplotlib.pyplot as plt` first). "
   ]
  },
  {
   "cell_type": "code",
   "execution_count": null,
   "id": "02542fcc-0f69-4dd6-b791-4ff5083c99b3",
   "metadata": {},
   "outputs": [],
   "source": [
    "sns.countplot(y='size', data=sns.load_dataset('tips'), color='c').set(title='Count of tables by size',\n",
    "                                                                      xlabel='Count of Tables', \n",
    "                                                                      ylabel='Seats per Table')\n",
    "plt.show()"
   ]
  }
 ],
 "metadata": {
  "kernelspec": {
   "display_name": "Python 3 (ipykernel)",
   "language": "python",
   "name": "python3"
  },
  "language_info": {
   "codemirror_mode": {
    "name": "ipython",
    "version": 3
   },
   "file_extension": ".py",
   "mimetype": "text/x-python",
   "name": "python",
   "nbconvert_exporter": "python",
   "pygments_lexer": "ipython3",
   "version": "3.9.12"
  }
 },
 "nbformat": 4,
 "nbformat_minor": 5
}
