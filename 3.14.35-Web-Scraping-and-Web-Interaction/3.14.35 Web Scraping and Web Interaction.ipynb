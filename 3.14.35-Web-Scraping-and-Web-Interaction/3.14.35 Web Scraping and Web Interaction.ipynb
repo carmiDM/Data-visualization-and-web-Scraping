{
 "cells": [
  {
   "cell_type": "markdown",
   "id": "7ca28090-b9b3-4a56-95a2-2ab00a446646",
   "metadata": {},
   "source": [
    "# 3.14.35 Web Scraping and Web Interaction"
   ]
  },
  {
   "cell_type": "markdown",
   "id": "71819563-5f41-4d7b-8340-706598bb93dc",
   "metadata": {},
   "source": [
    "### Web Interactions"
   ]
  },
  {
   "cell_type": "markdown",
   "id": "8df287d4-d110-4808-a0b0-b5002b02b1dd",
   "metadata": {},
   "source": [
    "In our last class, we saw how we can scrape data from a web page by referencing specific tags, ids, names or classes from the HTML source code of the page itself. Now, in some cases it may be necessary to **interact** with the page we're on, just like when we use our mouse to click on a link or select an option or when we use our keyboard to insert some text. \n",
    "\n",
    "To perform those actions listed above, we introduce a new Python library called `selenium`. Selenium is not shipped with the Anaconda distribution, so we will have to install the package manually via the `pip install` command in your computer terminal. As always, refer to the [official documentation](https://selenium-python.readthedocs.io/) for more information as well as for an introduction to the library.\n",
    "\n",
    "*Note: if you're using a Windows computer, you will need to run the following command from within a Conda Terminal*"
   ]
  },
  {
   "cell_type": "code",
   "execution_count": 1,
   "id": "8c1c9f9f-a324-4558-938d-9a0b88940dcd",
   "metadata": {
    "collapsed": true,
    "jupyter": {
     "outputs_hidden": true
    },
    "tags": []
   },
   "outputs": [
    {
     "name": "stdout",
     "output_type": "stream",
     "text": [
      "Collecting selenium\n",
      "  Downloading selenium-4.3.0-py3-none-any.whl (981 kB)\n",
      "\u001b[K     |████████████████████████████████| 981 kB 1.2 MB/s eta 0:00:01     |██████████████████████▊         | 696 kB 1.2 MB/s eta 0:00:01\n",
      "\u001b[?25hCollecting trio~=0.17\n",
      "  Downloading trio-0.21.0-py3-none-any.whl (358 kB)\n",
      "\u001b[K     |████████████████████████████████| 358 kB 3.5 MB/s eta 0:00:01\n",
      "\u001b[?25hCollecting trio-websocket~=0.9\n",
      "  Downloading trio_websocket-0.9.2-py3-none-any.whl (16 kB)\n",
      "Requirement already satisfied: urllib3[secure,socks]~=1.26 in /Users/carmidellamonica/opt/anaconda3/lib/python3.9/site-packages (from selenium) (1.26.9)\n",
      "Requirement already satisfied: idna in /Users/carmidellamonica/opt/anaconda3/lib/python3.9/site-packages (from trio~=0.17->selenium) (3.3)\n",
      "Requirement already satisfied: attrs>=19.2.0 in /Users/carmidellamonica/opt/anaconda3/lib/python3.9/site-packages (from trio~=0.17->selenium) (21.4.0)\n",
      "Collecting outcome\n",
      "  Downloading outcome-1.2.0-py2.py3-none-any.whl (9.7 kB)\n",
      "Requirement already satisfied: sortedcontainers in /Users/carmidellamonica/opt/anaconda3/lib/python3.9/site-packages (from trio~=0.17->selenium) (2.4.0)\n",
      "Collecting async-generator>=1.9\n",
      "  Downloading async_generator-1.10-py3-none-any.whl (18 kB)\n",
      "Requirement already satisfied: sniffio in /Users/carmidellamonica/opt/anaconda3/lib/python3.9/site-packages (from trio~=0.17->selenium) (1.2.0)\n",
      "Collecting wsproto>=0.14\n",
      "  Downloading wsproto-1.1.0-py3-none-any.whl (24 kB)\n",
      "Requirement already satisfied: cryptography>=1.3.4 in /Users/carmidellamonica/opt/anaconda3/lib/python3.9/site-packages (from urllib3[secure,socks]~=1.26->selenium) (3.4.8)\n",
      "Requirement already satisfied: pyOpenSSL>=0.14 in /Users/carmidellamonica/opt/anaconda3/lib/python3.9/site-packages (from urllib3[secure,socks]~=1.26->selenium) (21.0.0)\n",
      "Requirement already satisfied: certifi in /Users/carmidellamonica/opt/anaconda3/lib/python3.9/site-packages (from urllib3[secure,socks]~=1.26->selenium) (2021.10.8)\n",
      "Requirement already satisfied: PySocks!=1.5.7,<2.0,>=1.5.6 in /Users/carmidellamonica/opt/anaconda3/lib/python3.9/site-packages (from urllib3[secure,socks]~=1.26->selenium) (1.7.1)\n",
      "Requirement already satisfied: cffi>=1.12 in /Users/carmidellamonica/opt/anaconda3/lib/python3.9/site-packages (from cryptography>=1.3.4->urllib3[secure,socks]~=1.26->selenium) (1.15.0)\n",
      "Requirement already satisfied: pycparser in /Users/carmidellamonica/opt/anaconda3/lib/python3.9/site-packages (from cffi>=1.12->cryptography>=1.3.4->urllib3[secure,socks]~=1.26->selenium) (2.21)\n",
      "Requirement already satisfied: six>=1.5.2 in /Users/carmidellamonica/opt/anaconda3/lib/python3.9/site-packages (from pyOpenSSL>=0.14->urllib3[secure,socks]~=1.26->selenium) (1.16.0)\n",
      "Collecting h11<1,>=0.9.0\n",
      "  Downloading h11-0.13.0-py3-none-any.whl (58 kB)\n",
      "\u001b[K     |████████████████████████████████| 58 kB 1.8 MB/s eta 0:00:01\n",
      "\u001b[?25hInstalling collected packages: outcome, h11, async-generator, wsproto, trio, trio-websocket, selenium\n",
      "Successfully installed async-generator-1.10 h11-0.13.0 outcome-1.2.0 selenium-4.3.0 trio-0.21.0 trio-websocket-0.9.2 wsproto-1.1.0\n"
     ]
    }
   ],
   "source": [
    "# uncomment and run this only if you haven't installed it yet:\n",
    "!pip install selenium"
   ]
  },
  {
   "cell_type": "markdown",
   "id": "aca8c055-9b7e-463b-b655-10615b4791d0",
   "metadata": {},
   "source": [
    "Before we proceed to importing the library there is one more thing that needs to be done. In order to interact with the browser, we'll need a **WebDriver**, that is an open source tool for automated testing which provides capabilities for navigating to web pages, user input, JavaScript execution, and more. \n",
    "\n",
    "We will be using Google Chrome as our default browser (we recommend you to use Chrome as well, but this can be done with other browsers too), so you'll need to download the latest stable release of the **ChromeDriver** from [this website](https://sites.google.com/chromium.org/driver/) (make sure you select the .zip file appropriate for your Operating System). \n",
    "\n",
    "Once you've downloaded this file, copy it to the folder of this class lession. "
   ]
  },
  {
   "cell_type": "markdown",
   "id": "48a0073e-b4dd-4906-a0d1-9a4ae9cecb51",
   "metadata": {},
   "source": [
    "### A first simple example"
   ]
  },
  {
   "cell_type": "markdown",
   "id": "89a3874b-ef20-4f8f-9da0-ff06b7e84e47",
   "metadata": {},
   "source": [
    "At this point, we can import the necessary libraries: "
   ]
  },
  {
   "cell_type": "code",
   "execution_count": 7,
   "id": "0b607450-3dad-4660-a267-f716432b5e78",
   "metadata": {},
   "outputs": [],
   "source": [
    "from selenium import webdriver\n",
    "import os"
   ]
  },
  {
   "cell_type": "markdown",
   "id": "9e1490f4-003c-46a7-9c1d-aab2355ca9e7",
   "metadata": {},
   "source": [
    "The next step is to activate the WebDriver using the `webdriver.Chrome()` function, which requires the path to the `chromedriver` file as argument. We assign the result to an object that we call `driver` and that we'll use later on to interact with the browser instance that appeares. "
   ]
  },
  {
   "cell_type": "markdown",
   "id": "48d8d2c8-7bfd-49f5-9e56-8d9e52aa9828",
   "metadata": {},
   "source": [
    "Note: if you're using a Mac and the command below gives you an error saying that \"Error: “chromedriver” cannot be opened because the developer cannot be verified\": \n",
    "\n",
    "- open a teminal at the folder where the `chromedriver` file is saved\n",
    "- run the following command in the terminal: `xattr -d com.apple.quarantine chromedriver `"
   ]
  },
  {
   "cell_type": "code",
   "execution_count": 5,
   "id": "bb2b8572-f772-4629-a0e8-4663a3464b8a",
   "metadata": {},
   "outputs": [
    {
     "data": {
      "text/plain": [
       "'/Users/carmidellamonica/Documents/dataAnalytics/git/3.14.35-Web-Scraping-and-Web-Interaction'"
      ]
     },
     "execution_count": 5,
     "metadata": {},
     "output_type": "execute_result"
    }
   ],
   "source": [
    "os.getcwd()"
   ]
  },
  {
   "cell_type": "code",
   "execution_count": 9,
   "id": "68b21bb3-f8c3-4fa0-9768-e3bc9d1c814e",
   "metadata": {},
   "outputs": [
    {
     "name": "stderr",
     "output_type": "stream",
     "text": [
      "/var/folders/6j/wnpyrf193yd3tk48rfzt2hfm0000gn/T/ipykernel_22439/3749039912.py:1: DeprecationWarning: executable_path has been deprecated, please pass in a Service object\n",
      "  driver = webdriver.Chrome(os.getcwd() + '/chromedriver')\n"
     ]
    }
   ],
   "source": [
    "driver = webdriver.Chrome(os.getcwd() + '/chromedriver')"
   ]
  },
  {
   "cell_type": "markdown",
   "id": "83643bcb-a307-4d19-a9be-a4e8617199d6",
   "metadata": {},
   "source": [
    "Notice that the command above, if succesfully executed, will open up a new Chrome window that should say something like *Chrome is being controlled by automated test software*."
   ]
  },
  {
   "cell_type": "markdown",
   "id": "d9f90aae-915b-4f7f-ae63-b3a5d0d14057",
   "metadata": {},
   "source": [
    "At this point we can use the `driver` object we just created to (phisically) navigate to a new web page. "
   ]
  },
  {
   "cell_type": "code",
   "execution_count": 10,
   "id": "ea4f4c1e-5576-488d-bd5e-ac8afd1e58dc",
   "metadata": {},
   "outputs": [],
   "source": [
    "driver.get(\"https://www.scrapethissite.com/\")"
   ]
  },
  {
   "cell_type": "markdown",
   "id": "35f91297-df67-4ffc-a327-b324aba8004e",
   "metadata": {},
   "source": [
    "Executing the last cell should have taken you to the homepage of the [scrapethissite](https://www.scrapethissite.com/) website we've already seen in the last calss and that we're going to use for today's lesson as well. \n",
    "\n",
    "Similarly to `BeautifulSoup`, Selenium has some functions that allow us to retirive some content on the website by referencing HTML elements in the source code of the web page; specifically, there are two methods of particular interest: \n",
    "\n",
    "- `.find_element()` to retrieve (and return) a single element\n",
    "- `.find_elements()` to retrieve multiple elements and return them in a list\n",
    "\n",
    "As you can read in the [official documentation](https://selenium-python.readthedocs.io/locating-elements.html), these functions take two arguments: \n",
    "\n",
    "- a `by` parameter that specifies which element (id, name, class name, ...) to look for \n",
    "- a `value` parameter that specifies the value of the element (the id, the name, the class name, ...)\n",
    "\n",
    "The `by` clause requires you to load a specific module from the library using the following code: "
   ]
  },
  {
   "cell_type": "code",
   "execution_count": 15,
   "id": "9e99458a-5780-4d06-b9e7-9beff3dbe692",
   "metadata": {},
   "outputs": [],
   "source": [
    "from selenium.webdriver.common.by import By"
   ]
  },
  {
   "cell_type": "markdown",
   "id": "d0c487d2-c4a8-479d-a64d-a18057b12e5b",
   "metadata": {},
   "source": [
    "Check out [this page](https://selenium-python.readthedocs.io/api.html#locate-elements-by) to see all the options at disposal for the `by` clause. "
   ]
  },
  {
   "cell_type": "markdown",
   "id": "b2acc6e4-3388-4b25-a30c-a985378264c3",
   "metadata": {},
   "source": [
    "Let's say you wanted to select the \"Explore Sandbox\" element in the webpage, you could use the `.find_element()` method and specify a `By.LINK_TEXT` clause with a `value` parameter set to the text itself, that is, `Explore Sandbox`. "
   ]
  },
  {
   "cell_type": "code",
   "execution_count": 12,
   "id": "a3a93c7e-b69a-4593-9f8f-417556a9f240",
   "metadata": {},
   "outputs": [
    {
     "data": {
      "text/plain": [
       "<selenium.webdriver.remote.webelement.WebElement (session=\"99122741d1125d2434ec6c99c7877fa1\", element=\"6c5bef6a-751d-4413-9aa3-8d538c92f297\")>"
      ]
     },
     "execution_count": 12,
     "metadata": {},
     "output_type": "execute_result"
    }
   ],
   "source": [
    "driver.find_element(By.LINK_TEXT, \"Explore Sandbox\")"
   ]
  },
  {
   "cell_type": "markdown",
   "id": "79ea3a28-ab4c-4705-b76c-23347311780f",
   "metadata": {},
   "source": [
    "Since this element is a button, we can click it using the `.click()` method: "
   ]
  },
  {
   "cell_type": "code",
   "execution_count": 16,
   "id": "1e9c0781-7318-4dd8-9192-40db580927de",
   "metadata": {},
   "outputs": [],
   "source": [
    "driver.find_element(By.LINK_TEXT, \"Explore Sandbox\").click()"
   ]
  },
  {
   "cell_type": "markdown",
   "id": "935b56f4-79ef-470e-92f8-8da9ee994e8f",
   "metadata": {},
   "source": [
    "We can go back to the previous page using the `.back()` method on the `driver` object: "
   ]
  },
  {
   "cell_type": "code",
   "execution_count": 14,
   "id": "337224aa-f9e1-40d5-89d5-ab77fe56f045",
   "metadata": {},
   "outputs": [],
   "source": [
    "driver.back()"
   ]
  },
  {
   "cell_type": "markdown",
   "id": "8f3221fa-516d-4ea0-8783-9f2c03e7a9e2",
   "metadata": {},
   "source": [
    "Let's see another method to reference that \"Explore Sandbox\" element; in this case, we'll use the `By.XPATH` clause. \n",
    "\n",
    "As can be found in [this documentation page](https://selenium-python.readthedocs.io/locating-elements.html#locating-by-xpath), XPath is the language used to locate nodes in an XML document and, since an HTML document can be an implementation of XML (XHTML), Selenium users can leverage this powerful language to target elements in their web applications. \n",
    "\n",
    "Basically, when we use XPATH to locate an element, we're giving this element's path in the tree-like structure of the HTML document to Selenium, so that it can locate the element for us. You can read more in the documentation, but in our specific case, if we want to locate the \"Explore Sandbox\" button with XPath, we can: \n",
    "\n",
    "- specify to look in the entire document with the special character `//`\n",
    "- specify the `a` tag\n",
    "- specify the `@class` attribute (inside `[ ]`)\n",
    "- and its `'btn btn-lg btn-default'` value\n",
    "\n",
    "All of this can be written in the following special syntax: `//a[@class='btn btn-lg btn-default']`."
   ]
  },
  {
   "cell_type": "code",
   "execution_count": 17,
   "id": "72fbec21-6c80-4715-9c60-a385bc0b1138",
   "metadata": {
    "collapsed": true,
    "jupyter": {
     "outputs_hidden": true
    },
    "tags": []
   },
   "outputs": [
    {
     "ename": "NoSuchElementException",
     "evalue": "Message: no such element: Unable to locate element: {\"method\":\"xpath\",\"selector\":\"//a[@class='btn btn-lg btn-default']\"}\n  (Session info: chrome=103.0.5060.53)\nStacktrace:\n0   chromedriver                        0x0000000101b360f9 chromedriver + 4448505\n1   chromedriver                        0x0000000101ac1f73 chromedriver + 3972979\n2   chromedriver                        0x000000010175c268 chromedriver + 410216\n3   chromedriver                        0x000000010179252d chromedriver + 632109\n4   chromedriver                        0x00000001017927b1 chromedriver + 632753\n5   chromedriver                        0x00000001017c4784 chromedriver + 837508\n6   chromedriver                        0x00000001017afa3d chromedriver + 752189\n7   chromedriver                        0x00000001017c24a1 chromedriver + 828577\n8   chromedriver                        0x00000001017af903 chromedriver + 751875\n9   chromedriver                        0x0000000101785c55 chromedriver + 580693\n10  chromedriver                        0x0000000101786ca5 chromedriver + 584869\n11  chromedriver                        0x0000000101b0745d chromedriver + 4256861\n12  chromedriver                        0x0000000101b0c3dd chromedriver + 4277213\n13  chromedriver                        0x0000000101b1135f chromedriver + 4297567\n14  chromedriver                        0x0000000101b0d03a chromedriver + 4280378\n15  chromedriver                        0x0000000101ae686f chromedriver + 4122735\n16  chromedriver                        0x0000000101b27448 chromedriver + 4387912\n17  chromedriver                        0x0000000101b275cf chromedriver + 4388303\n18  chromedriver                        0x0000000101b3d545 chromedriver + 4478277\n19  libsystem_pthread.dylib             0x00007ff819a2a4e1 _pthread_start + 125\n20  libsystem_pthread.dylib             0x00007ff819a25f6b thread_start + 15\n",
     "output_type": "error",
     "traceback": [
      "\u001b[0;31m---------------------------------------------------------------------------\u001b[0m",
      "\u001b[0;31mNoSuchElementException\u001b[0m                    Traceback (most recent call last)",
      "Input \u001b[0;32mIn [17]\u001b[0m, in \u001b[0;36m<cell line: 1>\u001b[0;34m()\u001b[0m\n\u001b[0;32m----> 1\u001b[0m \u001b[43mdriver\u001b[49m\u001b[38;5;241;43m.\u001b[39;49m\u001b[43mfind_element\u001b[49m\u001b[43m(\u001b[49m\u001b[43mBy\u001b[49m\u001b[38;5;241;43m.\u001b[39;49m\u001b[43mXPATH\u001b[49m\u001b[43m,\u001b[49m\u001b[43m \u001b[49m\u001b[38;5;124;43m\"\u001b[39;49m\u001b[38;5;124;43m//a[@class=\u001b[39;49m\u001b[38;5;124;43m'\u001b[39;49m\u001b[38;5;124;43mbtn btn-lg btn-default\u001b[39;49m\u001b[38;5;124;43m'\u001b[39;49m\u001b[38;5;124;43m]\u001b[39;49m\u001b[38;5;124;43m\"\u001b[39;49m\u001b[43m)\u001b[49m\u001b[38;5;241m.\u001b[39mclick()\n",
      "File \u001b[0;32m~/opt/anaconda3/lib/python3.9/site-packages/selenium/webdriver/remote/webdriver.py:857\u001b[0m, in \u001b[0;36mWebDriver.find_element\u001b[0;34m(self, by, value)\u001b[0m\n\u001b[1;32m    854\u001b[0m     by \u001b[38;5;241m=\u001b[39m By\u001b[38;5;241m.\u001b[39mCSS_SELECTOR\n\u001b[1;32m    855\u001b[0m     value \u001b[38;5;241m=\u001b[39m \u001b[38;5;124m'\u001b[39m\u001b[38;5;124m[name=\u001b[39m\u001b[38;5;124m\"\u001b[39m\u001b[38;5;132;01m%s\u001b[39;00m\u001b[38;5;124m\"\u001b[39m\u001b[38;5;124m]\u001b[39m\u001b[38;5;124m'\u001b[39m \u001b[38;5;241m%\u001b[39m value\n\u001b[0;32m--> 857\u001b[0m \u001b[38;5;28;01mreturn\u001b[39;00m \u001b[38;5;28;43mself\u001b[39;49m\u001b[38;5;241;43m.\u001b[39;49m\u001b[43mexecute\u001b[49m\u001b[43m(\u001b[49m\u001b[43mCommand\u001b[49m\u001b[38;5;241;43m.\u001b[39;49m\u001b[43mFIND_ELEMENT\u001b[49m\u001b[43m,\u001b[49m\u001b[43m \u001b[49m\u001b[43m{\u001b[49m\n\u001b[1;32m    858\u001b[0m \u001b[43m    \u001b[49m\u001b[38;5;124;43m'\u001b[39;49m\u001b[38;5;124;43musing\u001b[39;49m\u001b[38;5;124;43m'\u001b[39;49m\u001b[43m:\u001b[49m\u001b[43m \u001b[49m\u001b[43mby\u001b[49m\u001b[43m,\u001b[49m\n\u001b[1;32m    859\u001b[0m \u001b[43m    \u001b[49m\u001b[38;5;124;43m'\u001b[39;49m\u001b[38;5;124;43mvalue\u001b[39;49m\u001b[38;5;124;43m'\u001b[39;49m\u001b[43m:\u001b[49m\u001b[43m \u001b[49m\u001b[43mvalue\u001b[49m\u001b[43m}\u001b[49m\u001b[43m)\u001b[49m[\u001b[38;5;124m'\u001b[39m\u001b[38;5;124mvalue\u001b[39m\u001b[38;5;124m'\u001b[39m]\n",
      "File \u001b[0;32m~/opt/anaconda3/lib/python3.9/site-packages/selenium/webdriver/remote/webdriver.py:435\u001b[0m, in \u001b[0;36mWebDriver.execute\u001b[0;34m(self, driver_command, params)\u001b[0m\n\u001b[1;32m    433\u001b[0m response \u001b[38;5;241m=\u001b[39m \u001b[38;5;28mself\u001b[39m\u001b[38;5;241m.\u001b[39mcommand_executor\u001b[38;5;241m.\u001b[39mexecute(driver_command, params)\n\u001b[1;32m    434\u001b[0m \u001b[38;5;28;01mif\u001b[39;00m response:\n\u001b[0;32m--> 435\u001b[0m     \u001b[38;5;28;43mself\u001b[39;49m\u001b[38;5;241;43m.\u001b[39;49m\u001b[43merror_handler\u001b[49m\u001b[38;5;241;43m.\u001b[39;49m\u001b[43mcheck_response\u001b[49m\u001b[43m(\u001b[49m\u001b[43mresponse\u001b[49m\u001b[43m)\u001b[49m\n\u001b[1;32m    436\u001b[0m     response[\u001b[38;5;124m'\u001b[39m\u001b[38;5;124mvalue\u001b[39m\u001b[38;5;124m'\u001b[39m] \u001b[38;5;241m=\u001b[39m \u001b[38;5;28mself\u001b[39m\u001b[38;5;241m.\u001b[39m_unwrap_value(\n\u001b[1;32m    437\u001b[0m         response\u001b[38;5;241m.\u001b[39mget(\u001b[38;5;124m'\u001b[39m\u001b[38;5;124mvalue\u001b[39m\u001b[38;5;124m'\u001b[39m, \u001b[38;5;28;01mNone\u001b[39;00m))\n\u001b[1;32m    438\u001b[0m     \u001b[38;5;28;01mreturn\u001b[39;00m response\n",
      "File \u001b[0;32m~/opt/anaconda3/lib/python3.9/site-packages/selenium/webdriver/remote/errorhandler.py:247\u001b[0m, in \u001b[0;36mErrorHandler.check_response\u001b[0;34m(self, response)\u001b[0m\n\u001b[1;32m    245\u001b[0m         alert_text \u001b[38;5;241m=\u001b[39m value[\u001b[38;5;124m'\u001b[39m\u001b[38;5;124malert\u001b[39m\u001b[38;5;124m'\u001b[39m]\u001b[38;5;241m.\u001b[39mget(\u001b[38;5;124m'\u001b[39m\u001b[38;5;124mtext\u001b[39m\u001b[38;5;124m'\u001b[39m)\n\u001b[1;32m    246\u001b[0m     \u001b[38;5;28;01mraise\u001b[39;00m exception_class(message, screen, stacktrace, alert_text)  \u001b[38;5;66;03m# type: ignore[call-arg]  # mypy is not smart enough here\u001b[39;00m\n\u001b[0;32m--> 247\u001b[0m \u001b[38;5;28;01mraise\u001b[39;00m exception_class(message, screen, stacktrace)\n",
      "\u001b[0;31mNoSuchElementException\u001b[0m: Message: no such element: Unable to locate element: {\"method\":\"xpath\",\"selector\":\"//a[@class='btn btn-lg btn-default']\"}\n  (Session info: chrome=103.0.5060.53)\nStacktrace:\n0   chromedriver                        0x0000000101b360f9 chromedriver + 4448505\n1   chromedriver                        0x0000000101ac1f73 chromedriver + 3972979\n2   chromedriver                        0x000000010175c268 chromedriver + 410216\n3   chromedriver                        0x000000010179252d chromedriver + 632109\n4   chromedriver                        0x00000001017927b1 chromedriver + 632753\n5   chromedriver                        0x00000001017c4784 chromedriver + 837508\n6   chromedriver                        0x00000001017afa3d chromedriver + 752189\n7   chromedriver                        0x00000001017c24a1 chromedriver + 828577\n8   chromedriver                        0x00000001017af903 chromedriver + 751875\n9   chromedriver                        0x0000000101785c55 chromedriver + 580693\n10  chromedriver                        0x0000000101786ca5 chromedriver + 584869\n11  chromedriver                        0x0000000101b0745d chromedriver + 4256861\n12  chromedriver                        0x0000000101b0c3dd chromedriver + 4277213\n13  chromedriver                        0x0000000101b1135f chromedriver + 4297567\n14  chromedriver                        0x0000000101b0d03a chromedriver + 4280378\n15  chromedriver                        0x0000000101ae686f chromedriver + 4122735\n16  chromedriver                        0x0000000101b27448 chromedriver + 4387912\n17  chromedriver                        0x0000000101b275cf chromedriver + 4388303\n18  chromedriver                        0x0000000101b3d545 chromedriver + 4478277\n19  libsystem_pthread.dylib             0x00007ff819a2a4e1 _pthread_start + 125\n20  libsystem_pthread.dylib             0x00007ff819a25f6b thread_start + 15\n"
     ]
    }
   ],
   "source": [
    "driver.find_element(By.XPATH, \"//a[@class='btn btn-lg btn-default']\").click()"
   ]
  },
  {
   "cell_type": "markdown",
   "id": "f52434d3-38ef-4e88-996f-258dc4b06e53",
   "metadata": {},
   "source": [
    "To make things simpler, I recommend you install [this Chrome plugin](https://chrome.google.com/webstore/detail/selectorshub/ndgimibanhlabgdgjcpbbndiehljcpfh/related?hl=en) that helops you find a specific element's identifier, including its relative XPath. *Note: make sure you restart your browser after adding the plugin to Chrome.*"
   ]
  },
  {
   "cell_type": "markdown",
   "id": "af8355ad-8281-4582-8ddb-c7b0d85826f5",
   "metadata": {},
   "source": [
    "<img src=\"img/selectors-hub.png\" width=\"600\">"
   ]
  },
  {
   "cell_type": "markdown",
   "id": "6a6b065a-d16f-41f7-bbd4-007a6f545841",
   "metadata": {},
   "source": [
    "Let's move on to the Python script `script1_selenium.py` to see more about Selenium in action. "
   ]
  },
  {
   "cell_type": "markdown",
   "id": "bd88963d-9530-45d2-b42c-d27da86106e8",
   "metadata": {},
   "source": [
    "### List Comprehension"
   ]
  },
  {
   "cell_type": "markdown",
   "id": "eab4dc82-8bd1-4a0f-845b-793a55aceb6c",
   "metadata": {},
   "source": [
    "At the beginning of this module, we learned how to cycle through an iterable ogject in Python using **for loops**, so that if we wanted to cycle through the first 10 numbers and save them in a list, we would write something like this:  "
   ]
  },
  {
   "cell_type": "code",
   "execution_count": null,
   "id": "c991e604-702f-479b-84a8-43a9614e876d",
   "metadata": {},
   "outputs": [],
   "source": [
    "list = []\n",
    "for i in range(1, 10): \n",
    "    list.append(i)\n",
    "list"
   ]
  },
  {
   "cell_type": "markdown",
   "id": "b058f139-2dd8-405f-b4c4-5e12c4c73442",
   "metadata": {},
   "source": [
    "Introducing **list comprehension**: "
   ]
  },
  {
   "cell_type": "code",
   "execution_count": null,
   "id": "2b8a2ec3-d5fd-44b3-a330-783adf16451f",
   "metadata": {},
   "outputs": [],
   "source": [
    "[i for i in range(1, 10)]"
   ]
  },
  {
   "cell_type": "markdown",
   "id": "b22845cd-1dd9-4feb-b7d2-27a229e40fa9",
   "metadata": {},
   "source": [
    "List comprehension offers a **more compact syntax** and is specifically used when you want to create a new list based on the values of an existing list, or some other iterable object. \n",
    "\n",
    "You can also include **conditional statements** in it. In a traditional for loop, if you wanted to just print out odd numbers, you would write something like: "
   ]
  },
  {
   "cell_type": "code",
   "execution_count": null,
   "id": "a55be6ac-d718-4291-9116-c1287c970b7b",
   "metadata": {},
   "outputs": [],
   "source": [
    "odd = []\n",
    "for i in range(1, 10): \n",
    "    if i%2 != 0: \n",
    "        odd.append(i)\n",
    "odd"
   ]
  },
  {
   "cell_type": "code",
   "execution_count": null,
   "id": "4dc98b9e-a684-43e4-93ca-46a0dab6610e",
   "metadata": {},
   "outputs": [],
   "source": [
    "[i for i in range(1, 10) if i%2 != 0]"
   ]
  },
  {
   "cell_type": "markdown",
   "id": "1caf6888-f99d-403c-89e4-67495b58ad5e",
   "metadata": {},
   "source": [
    "List comprehension is a very handy and powerful tool, make sure you understand them and practice with them so that they become easy to read and to write in your everyday scripts. \n",
    "\n",
    "Check out [this tutorial](https://realpython.com/list-comprehension-python/#using-list-comprehensions) to find out more. "
   ]
  },
  {
   "cell_type": "markdown",
   "id": "2484d601-930a-47c1-89c1-bb8932ced2c0",
   "metadata": {},
   "source": [
    "### References"
   ]
  },
  {
   "cell_type": "markdown",
   "id": "55a46ea8-ce17-4c7c-bc56-5e532f624afc",
   "metadata": {},
   "source": [
    "- ChromeDriver [website](https://sites.google.com/chromium.org/driver/)\n",
    "- Selenium [Official Documentation](https://selenium-python.readthedocs.io/)\n",
    "- YouTube [Tutorial Series](https://www.youtube.com/watch?v=Xjv1sY630Uc)\n",
    "- Introductory [Online Tutorial](https://www.browserstack.com/guide/python-selenium-to-run-web-automation-test)"
   ]
  }
 ],
 "metadata": {
  "kernelspec": {
   "display_name": "Python 3 (ipykernel)",
   "language": "python",
   "name": "python3"
  },
  "language_info": {
   "codemirror_mode": {
    "name": "ipython",
    "version": 3
   },
   "file_extension": ".py",
   "mimetype": "text/x-python",
   "name": "python",
   "nbconvert_exporter": "python",
   "pygments_lexer": "ipython3",
   "version": "3.9.12"
  }
 },
 "nbformat": 4,
 "nbformat_minor": 5
}
