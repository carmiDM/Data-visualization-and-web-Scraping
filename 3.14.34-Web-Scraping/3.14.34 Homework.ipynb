{
 "cells": [
  {
   "cell_type": "markdown",
   "id": "da657912-3610-4d1d-8107-20cc995fb687",
   "metadata": {},
   "source": [
    "### Homework"
   ]
  },
  {
   "cell_type": "markdown",
   "id": "93576847-5329-4e11-ad46-c1b5c1c864da",
   "metadata": {},
   "source": [
    "Before you begin, remember to import the necessary libraries."
   ]
  },
  {
   "cell_type": "code",
   "execution_count": 1,
   "id": "0d553f1f-d0ff-463e-95f7-7f9a212b4362",
   "metadata": {},
   "outputs": [],
   "source": [
    "import pandas as pd\n",
    "import requests\n",
    "import re\n",
    "from bs4 import BeautifulSoup"
   ]
  },
  {
   "cell_type": "markdown",
   "id": "7ff563fb-6ed2-4389-8ef4-020bd1445e43",
   "metadata": {},
   "source": [
    "#### Standard Exercise"
   ]
  },
  {
   "cell_type": "markdown",
   "id": "8e0e2ee2-da1e-4a47-a065-bcca3a1d8baa",
   "metadata": {},
   "source": [
    "The first exercise we saw in class used the following code to produce a list of all the names of the countries available in the [source website](https://www.scrapethissite.com/pages/simple/): "
   ]
  },
  {
   "cell_type": "code",
   "execution_count": 2,
   "id": "0e091775-1365-4d12-b2a5-f4f8ae2c8bce",
   "metadata": {},
   "outputs": [
    {
     "data": {
      "text/plain": [
       "['Andorra',\n",
       " 'United Arab Emirates',\n",
       " 'Afghanistan',\n",
       " 'Antigua and Barbuda',\n",
       " 'Anguilla']"
      ]
     },
     "execution_count": 2,
     "metadata": {},
     "output_type": "execute_result"
    }
   ],
   "source": [
    "url = \"https://www.scrapethissite.com/pages/simple/\"\n",
    "page = requests.get(url)\n",
    "soup = BeautifulSoup(page.content, \"html.parser\")\n",
    "results = soup.find(id=\"page\")\n",
    "countries = results.find_all(\"div\", class_=\"col-md-4 country\")\n",
    "names = []\n",
    "for c in countries: \n",
    "    names.append(c.find(\"h3\", class_=\"country-name\").text.strip())\n",
    "names[0:5]"
   ]
  },
  {
   "cell_type": "markdown",
   "id": "4490ca13-c0cc-43c8-b49c-d6c5d8e67449",
   "metadata": {},
   "source": [
    "1. Run the code above in order to produce a list called `names` that contains all the country names in the source website. How many countries are there in the list?"
   ]
  },
  {
   "cell_type": "code",
   "execution_count": 4,
   "id": "c0f44e79-a2c1-468b-9c0d-9f26c290144e",
   "metadata": {},
   "outputs": [
    {
     "data": {
      "text/plain": [
       "250"
      ]
     },
     "execution_count": 4,
     "metadata": {},
     "output_type": "execute_result"
    }
   ],
   "source": [
    "len(names)"
   ]
  },
  {
   "cell_type": "markdown",
   "id": "4504dd49-2e25-4bad-9d3e-14c16a6401ec",
   "metadata": {},
   "source": [
    "2. Using the same logic seen in class, produce a new list, called `capitals`, containing the capitals of the relative country name. *Notice that the tag identifier for this piece of data may be different from the previous one.*"
   ]
  },
  {
   "cell_type": "code",
   "execution_count": 3,
   "id": "8c1d5ff2-8a96-4c4d-9c2c-362fe860cf19",
   "metadata": {
    "tags": []
   },
   "outputs": [
    {
     "data": {
      "text/plain": [
       "['Andorra la Vella', 'Abu Dhabi']"
      ]
     },
     "execution_count": 3,
     "metadata": {},
     "output_type": "execute_result"
    }
   ],
   "source": [
    "capitals = []\n",
    "for c in countries: \n",
    "    capitals.append(c.find(\"span\", class_=\"country-capital\").text.strip())\n",
    "capitals[0:2]"
   ]
  },
  {
   "cell_type": "markdown",
   "id": "c4a31516-4031-4b43-a110-2d0b2ea79569",
   "metadata": {},
   "source": [
    "3. Using the same logic seen in class, produce a new list, called `population`, containing the number of people living in the relative country. "
   ]
  },
  {
   "cell_type": "code",
   "execution_count": 4,
   "id": "e4223235-f8e1-45c6-a03f-f8cff684a79c",
   "metadata": {},
   "outputs": [
    {
     "data": {
      "text/plain": [
       "['84000', '4975593', '29121286']"
      ]
     },
     "execution_count": 4,
     "metadata": {},
     "output_type": "execute_result"
    }
   ],
   "source": [
    "population = []\n",
    "for c in countries: \n",
    "    population.append(c.find(\"span\", class_=\"country-population\").text.strip())\n",
    "population[0:3]"
   ]
  },
  {
   "cell_type": "markdown",
   "id": "973ca64e-37a6-4e7d-8df0-d5ada1aec71b",
   "metadata": {},
   "source": [
    "4. Using the same logic seen in class, produce a new list, called `area`, containing the area (in squared kilometers) of the relative country. "
   ]
  },
  {
   "cell_type": "code",
   "execution_count": 5,
   "id": "223f308a-73a8-488f-b301-712805f214ec",
   "metadata": {},
   "outputs": [
    {
     "data": {
      "text/plain": [
       "['468.0', '82880.0', '647500.0']"
      ]
     },
     "execution_count": 5,
     "metadata": {},
     "output_type": "execute_result"
    }
   ],
   "source": [
    "area = []\n",
    "for c in countries: \n",
    "    area.append(c.find(\"span\", class_=\"country-area\").text.strip())\n",
    "area[0:3]"
   ]
  },
  {
   "cell_type": "markdown",
   "id": "8bfcfd24-574e-4bf9-b489-bd52a7559bd1",
   "metadata": {},
   "source": [
    "5. Given the four lists you just created, produce a new DataFrame called `df_country`, containing four columns `name`, `capital`, `population` and `area`. The DataFrame should have 4 columns and 250 rows, check that this is the case. "
   ]
  },
  {
   "cell_type": "code",
   "execution_count": 11,
   "id": "5deb66a5-e424-4612-b484-33141a1ccccd",
   "metadata": {},
   "outputs": [
    {
     "data": {
      "text/html": [
       "<div>\n",
       "<style scoped>\n",
       "    .dataframe tbody tr th:only-of-type {\n",
       "        vertical-align: middle;\n",
       "    }\n",
       "\n",
       "    .dataframe tbody tr th {\n",
       "        vertical-align: top;\n",
       "    }\n",
       "\n",
       "    .dataframe thead th {\n",
       "        text-align: right;\n",
       "    }\n",
       "</style>\n",
       "<table border=\"1\" class=\"dataframe\">\n",
       "  <thead>\n",
       "    <tr style=\"text-align: right;\">\n",
       "      <th></th>\n",
       "      <th>name</th>\n",
       "      <th>capital</th>\n",
       "      <th>population</th>\n",
       "      <th>area</th>\n",
       "    </tr>\n",
       "  </thead>\n",
       "  <tbody>\n",
       "    <tr>\n",
       "      <th>0</th>\n",
       "      <td>Andorra</td>\n",
       "      <td>Andorra la Vella</td>\n",
       "      <td>84000</td>\n",
       "      <td>468.0</td>\n",
       "    </tr>\n",
       "    <tr>\n",
       "      <th>1</th>\n",
       "      <td>United Arab Emirates</td>\n",
       "      <td>Abu Dhabi</td>\n",
       "      <td>4975593</td>\n",
       "      <td>82880.0</td>\n",
       "    </tr>\n",
       "    <tr>\n",
       "      <th>2</th>\n",
       "      <td>Afghanistan</td>\n",
       "      <td>Kabul</td>\n",
       "      <td>29121286</td>\n",
       "      <td>647500.0</td>\n",
       "    </tr>\n",
       "    <tr>\n",
       "      <th>3</th>\n",
       "      <td>Antigua and Barbuda</td>\n",
       "      <td>St. John's</td>\n",
       "      <td>86754</td>\n",
       "      <td>443.0</td>\n",
       "    </tr>\n",
       "    <tr>\n",
       "      <th>4</th>\n",
       "      <td>Anguilla</td>\n",
       "      <td>The Valley</td>\n",
       "      <td>13254</td>\n",
       "      <td>102.0</td>\n",
       "    </tr>\n",
       "    <tr>\n",
       "      <th>...</th>\n",
       "      <td>...</td>\n",
       "      <td>...</td>\n",
       "      <td>...</td>\n",
       "      <td>...</td>\n",
       "    </tr>\n",
       "    <tr>\n",
       "      <th>245</th>\n",
       "      <td>Yemen</td>\n",
       "      <td>Sanaa</td>\n",
       "      <td>23495361</td>\n",
       "      <td>527970.0</td>\n",
       "    </tr>\n",
       "    <tr>\n",
       "      <th>246</th>\n",
       "      <td>Mayotte</td>\n",
       "      <td>Mamoudzou</td>\n",
       "      <td>159042</td>\n",
       "      <td>374.0</td>\n",
       "    </tr>\n",
       "    <tr>\n",
       "      <th>247</th>\n",
       "      <td>South Africa</td>\n",
       "      <td>Pretoria</td>\n",
       "      <td>49000000</td>\n",
       "      <td>1219912.0</td>\n",
       "    </tr>\n",
       "    <tr>\n",
       "      <th>248</th>\n",
       "      <td>Zambia</td>\n",
       "      <td>Lusaka</td>\n",
       "      <td>13460305</td>\n",
       "      <td>752614.0</td>\n",
       "    </tr>\n",
       "    <tr>\n",
       "      <th>249</th>\n",
       "      <td>Zimbabwe</td>\n",
       "      <td>Harare</td>\n",
       "      <td>11651858</td>\n",
       "      <td>390580.0</td>\n",
       "    </tr>\n",
       "  </tbody>\n",
       "</table>\n",
       "<p>250 rows × 4 columns</p>\n",
       "</div>"
      ],
      "text/plain": [
       "                     name           capital population       area\n",
       "0                 Andorra  Andorra la Vella      84000      468.0\n",
       "1    United Arab Emirates         Abu Dhabi    4975593    82880.0\n",
       "2             Afghanistan             Kabul   29121286   647500.0\n",
       "3     Antigua and Barbuda        St. John's      86754      443.0\n",
       "4                Anguilla        The Valley      13254      102.0\n",
       "..                    ...               ...        ...        ...\n",
       "245                 Yemen             Sanaa   23495361   527970.0\n",
       "246               Mayotte         Mamoudzou     159042      374.0\n",
       "247          South Africa          Pretoria   49000000  1219912.0\n",
       "248                Zambia            Lusaka   13460305   752614.0\n",
       "249              Zimbabwe            Harare   11651858   390580.0\n",
       "\n",
       "[250 rows x 4 columns]"
      ]
     },
     "execution_count": 11,
     "metadata": {},
     "output_type": "execute_result"
    }
   ],
   "source": [
    "df_country = pd.DataFrame({\"name\": names , \n",
    "                           \"capital\": capitals, \n",
    "                           \"population\": population ,\n",
    "                           \"area\": area})\n",
    "df_country"
   ]
  },
  {
   "cell_type": "markdown",
   "id": "94266539-4a79-4061-8cf0-a2b9280d2022",
   "metadata": {},
   "source": [
    "6. Check the data type of each column in the DataFrame. Are all column in the correct data format? If not, change each column's data type appropriately. "
   ]
  },
  {
   "cell_type": "code",
   "execution_count": 15,
   "id": "fa257ac9-9d03-4b4b-9b98-d54997c2c85d",
   "metadata": {},
   "outputs": [
    {
     "name": "stdout",
     "output_type": "stream",
     "text": [
      "<class 'pandas.core.frame.DataFrame'>\n",
      "RangeIndex: 250 entries, 0 to 249\n",
      "Data columns (total 4 columns):\n",
      " #   Column      Non-Null Count  Dtype  \n",
      "---  ------      --------------  -----  \n",
      " 0   name        250 non-null    object \n",
      " 1   capital     250 non-null    object \n",
      " 2   population  250 non-null    int64  \n",
      " 3   area        250 non-null    float64\n",
      "dtypes: float64(1), int64(1), object(2)\n",
      "memory usage: 7.9+ KB\n"
     ]
    }
   ],
   "source": [
    "df_country.info()"
   ]
  },
  {
   "cell_type": "code",
   "execution_count": 16,
   "id": "1837163c-ee02-44b1-8cc1-f8e314e6a171",
   "metadata": {},
   "outputs": [],
   "source": [
    "df_country['population'] = pd.to_numeric(df_country['population'])\n",
    "df_country['area'] = pd.to_numeric(df_country['area'])"
   ]
  },
  {
   "cell_type": "markdown",
   "id": "143b36a3-2c62-4fad-a4dc-992e19229989",
   "metadata": {},
   "source": [
    "7. Create a new column called `pop_density` which represents the number of people per squared kilometer living in each country. "
   ]
  },
  {
   "cell_type": "code",
   "execution_count": 17,
   "id": "bd721702-77fe-4aa4-becf-b648f8a69542",
   "metadata": {},
   "outputs": [],
   "source": [
    "df_country['pop_density'] = df_country['population']/df_country['area']"
   ]
  },
  {
   "cell_type": "code",
   "execution_count": 18,
   "id": "0af3af4f-ba5c-445f-ba9c-a58b354dfeb8",
   "metadata": {},
   "outputs": [
    {
     "data": {
      "text/html": [
       "<div>\n",
       "<style scoped>\n",
       "    .dataframe tbody tr th:only-of-type {\n",
       "        vertical-align: middle;\n",
       "    }\n",
       "\n",
       "    .dataframe tbody tr th {\n",
       "        vertical-align: top;\n",
       "    }\n",
       "\n",
       "    .dataframe thead th {\n",
       "        text-align: right;\n",
       "    }\n",
       "</style>\n",
       "<table border=\"1\" class=\"dataframe\">\n",
       "  <thead>\n",
       "    <tr style=\"text-align: right;\">\n",
       "      <th></th>\n",
       "      <th>name</th>\n",
       "      <th>capital</th>\n",
       "      <th>population</th>\n",
       "      <th>area</th>\n",
       "      <th>pop_density</th>\n",
       "    </tr>\n",
       "  </thead>\n",
       "  <tbody>\n",
       "    <tr>\n",
       "      <th>47</th>\n",
       "      <td>China</td>\n",
       "      <td>Beijing</td>\n",
       "      <td>1330044000</td>\n",
       "      <td>9596960.0</td>\n",
       "      <td>138.590137</td>\n",
       "    </tr>\n",
       "    <tr>\n",
       "      <th>104</th>\n",
       "      <td>India</td>\n",
       "      <td>New Delhi</td>\n",
       "      <td>1173108018</td>\n",
       "      <td>3287590.0</td>\n",
       "      <td>356.829172</td>\n",
       "    </tr>\n",
       "    <tr>\n",
       "      <th>232</th>\n",
       "      <td>United States</td>\n",
       "      <td>Washington</td>\n",
       "      <td>310232863</td>\n",
       "      <td>9629091.0</td>\n",
       "      <td>32.218292</td>\n",
       "    </tr>\n",
       "    <tr>\n",
       "      <th>100</th>\n",
       "      <td>Indonesia</td>\n",
       "      <td>Jakarta</td>\n",
       "      <td>242968342</td>\n",
       "      <td>1919440.0</td>\n",
       "      <td>126.582931</td>\n",
       "    </tr>\n",
       "    <tr>\n",
       "      <th>30</th>\n",
       "      <td>Brazil</td>\n",
       "      <td>Brasília</td>\n",
       "      <td>201103330</td>\n",
       "      <td>8511965.0</td>\n",
       "      <td>23.625958</td>\n",
       "    </tr>\n",
       "    <tr>\n",
       "      <th>...</th>\n",
       "      <td>...</td>\n",
       "      <td>...</td>\n",
       "      <td>...</td>\n",
       "      <td>...</td>\n",
       "      <td>...</td>\n",
       "    </tr>\n",
       "    <tr>\n",
       "      <th>89</th>\n",
       "      <td>South Georgia and the South Sandwich Islands</td>\n",
       "      <td>Grytviken</td>\n",
       "      <td>30</td>\n",
       "      <td>3903.0</td>\n",
       "      <td>0.007686</td>\n",
       "    </tr>\n",
       "    <tr>\n",
       "      <th>231</th>\n",
       "      <td>U.S. Minor Outlying Islands</td>\n",
       "      <td>None</td>\n",
       "      <td>0</td>\n",
       "      <td>0.0</td>\n",
       "      <td>NaN</td>\n",
       "    </tr>\n",
       "    <tr>\n",
       "      <th>8</th>\n",
       "      <td>Antarctica</td>\n",
       "      <td>None</td>\n",
       "      <td>0</td>\n",
       "      <td>14000000.0</td>\n",
       "      <td>0.000000</td>\n",
       "    </tr>\n",
       "    <tr>\n",
       "      <th>33</th>\n",
       "      <td>Bouvet Island</td>\n",
       "      <td>None</td>\n",
       "      <td>0</td>\n",
       "      <td>49.0</td>\n",
       "      <td>0.000000</td>\n",
       "    </tr>\n",
       "    <tr>\n",
       "      <th>95</th>\n",
       "      <td>Heard Island and McDonald Islands</td>\n",
       "      <td>None</td>\n",
       "      <td>0</td>\n",
       "      <td>412.0</td>\n",
       "      <td>0.000000</td>\n",
       "    </tr>\n",
       "  </tbody>\n",
       "</table>\n",
       "<p>250 rows × 5 columns</p>\n",
       "</div>"
      ],
      "text/plain": [
       "                                             name     capital  population  \\\n",
       "47                                          China     Beijing  1330044000   \n",
       "104                                         India   New Delhi  1173108018   \n",
       "232                                 United States  Washington   310232863   \n",
       "100                                     Indonesia     Jakarta   242968342   \n",
       "30                                         Brazil    Brasília   201103330   \n",
       "..                                            ...         ...         ...   \n",
       "89   South Georgia and the South Sandwich Islands   Grytviken          30   \n",
       "231                   U.S. Minor Outlying Islands        None           0   \n",
       "8                                      Antarctica        None           0   \n",
       "33                                  Bouvet Island        None           0   \n",
       "95              Heard Island and McDonald Islands        None           0   \n",
       "\n",
       "           area  pop_density  \n",
       "47    9596960.0   138.590137  \n",
       "104   3287590.0   356.829172  \n",
       "232   9629091.0    32.218292  \n",
       "100   1919440.0   126.582931  \n",
       "30    8511965.0    23.625958  \n",
       "..          ...          ...  \n",
       "89       3903.0     0.007686  \n",
       "231         0.0          NaN  \n",
       "8    14000000.0     0.000000  \n",
       "33         49.0     0.000000  \n",
       "95        412.0     0.000000  \n",
       "\n",
       "[250 rows x 5 columns]"
      ]
     },
     "execution_count": 18,
     "metadata": {},
     "output_type": "execute_result"
    }
   ],
   "source": [
    "df_country.sort_values('population', ascending = False)"
   ]
  },
  {
   "cell_type": "markdown",
   "id": "07a7aff5-3d5c-4648-9cc0-4ff3b9af1e06",
   "metadata": {},
   "source": [
    "8. Which country has the highest population? And which country has the highest population density? Did you expect this result?"
   ]
  },
  {
   "cell_type": "markdown",
   "id": "f5a95fde-fac0-46e5-9516-3038cf60ad1e",
   "metadata": {},
   "source": [
    "_China has the highest population, Monaco the highest population density_"
   ]
  },
  {
   "cell_type": "markdown",
   "id": "abf1224a-4ce5-4e78-8d9e-914c3affeba1",
   "metadata": {},
   "source": [
    "9. How does Italy rank in terms of highest population density? "
   ]
  },
  {
   "cell_type": "code",
   "execution_count": 34,
   "id": "4ec733ea-840c-4121-bb97-4348113c7809",
   "metadata": {},
   "outputs": [
    {
     "data": {
      "text/html": [
       "<div>\n",
       "<style scoped>\n",
       "    .dataframe tbody tr th:only-of-type {\n",
       "        vertical-align: middle;\n",
       "    }\n",
       "\n",
       "    .dataframe tbody tr th {\n",
       "        vertical-align: top;\n",
       "    }\n",
       "\n",
       "    .dataframe thead th {\n",
       "        text-align: right;\n",
       "    }\n",
       "</style>\n",
       "<table border=\"1\" class=\"dataframe\">\n",
       "  <thead>\n",
       "    <tr style=\"text-align: right;\">\n",
       "      <th></th>\n",
       "      <th>name</th>\n",
       "      <th>capital</th>\n",
       "      <th>population</th>\n",
       "      <th>area</th>\n",
       "      <th>pop_density</th>\n",
       "    </tr>\n",
       "  </thead>\n",
       "  <tbody>\n",
       "    <tr>\n",
       "      <th>109</th>\n",
       "      <td>Italy</td>\n",
       "      <td>Rome</td>\n",
       "      <td>60340328</td>\n",
       "      <td>301230.0</td>\n",
       "      <td>200.313143</td>\n",
       "    </tr>\n",
       "  </tbody>\n",
       "</table>\n",
       "</div>"
      ],
      "text/plain": [
       "      name capital  population      area  pop_density\n",
       "109  Italy    Rome    60340328  301230.0   200.313143"
      ]
     },
     "execution_count": 34,
     "metadata": {},
     "output_type": "execute_result"
    }
   ],
   "source": [
    "df_country[df_country['name'] == 'Italy']"
   ]
  },
  {
   "cell_type": "markdown",
   "id": "c7be2acc-3abc-46ae-bd4c-cc5988cd6bd1",
   "metadata": {},
   "source": [
    "#### Advanced Exercise"
   ]
  },
  {
   "cell_type": "markdown",
   "id": "9755cc5e-1608-4bfd-9c59-3906adeab1e2",
   "metadata": {},
   "source": [
    "The second exercise we saw in class used the following code to produce a list of the titles of the 250 most rated movies in the [IMDB website](https://www.imdb.com/chart/top/?ref_=nv_mv_250): "
   ]
  },
  {
   "cell_type": "code",
   "execution_count": 19,
   "id": "99ba9eef-35ba-49dd-94c3-e47aa4645467",
   "metadata": {},
   "outputs": [
    {
     "data": {
      "text/html": [
       "<div>\n",
       "<style scoped>\n",
       "    .dataframe tbody tr th:only-of-type {\n",
       "        vertical-align: middle;\n",
       "    }\n",
       "\n",
       "    .dataframe tbody tr th {\n",
       "        vertical-align: top;\n",
       "    }\n",
       "\n",
       "    .dataframe thead th {\n",
       "        text-align: right;\n",
       "    }\n",
       "</style>\n",
       "<table border=\"1\" class=\"dataframe\">\n",
       "  <thead>\n",
       "    <tr style=\"text-align: right;\">\n",
       "      <th></th>\n",
       "      <th>name</th>\n",
       "      <th>cast</th>\n",
       "    </tr>\n",
       "  </thead>\n",
       "  <tbody>\n",
       "    <tr>\n",
       "      <th>0</th>\n",
       "      <td>The Shawshank Redemption</td>\n",
       "      <td>Frank Darabont (dir.), Tim Robbins, Morgan Fre...</td>\n",
       "    </tr>\n",
       "    <tr>\n",
       "      <th>1</th>\n",
       "      <td>The Godfather</td>\n",
       "      <td>Francis Ford Coppola (dir.), Marlon Brando, Al...</td>\n",
       "    </tr>\n",
       "    <tr>\n",
       "      <th>2</th>\n",
       "      <td>The Dark Knight</td>\n",
       "      <td>Christopher Nolan (dir.), Christian Bale, Heat...</td>\n",
       "    </tr>\n",
       "    <tr>\n",
       "      <th>3</th>\n",
       "      <td>The Godfather: Part II</td>\n",
       "      <td>Francis Ford Coppola (dir.), Al Pacino, Robert...</td>\n",
       "    </tr>\n",
       "    <tr>\n",
       "      <th>4</th>\n",
       "      <td>12 Angry Men</td>\n",
       "      <td>Sidney Lumet (dir.), Henry Fonda, Lee J. Cobb</td>\n",
       "    </tr>\n",
       "  </tbody>\n",
       "</table>\n",
       "</div>"
      ],
      "text/plain": [
       "                       name                                               cast\n",
       "0  The Shawshank Redemption  Frank Darabont (dir.), Tim Robbins, Morgan Fre...\n",
       "1             The Godfather  Francis Ford Coppola (dir.), Marlon Brando, Al...\n",
       "2           The Dark Knight  Christopher Nolan (dir.), Christian Bale, Heat...\n",
       "3    The Godfather: Part II  Francis Ford Coppola (dir.), Al Pacino, Robert...\n",
       "4              12 Angry Men      Sidney Lumet (dir.), Henry Fonda, Lee J. Cobb"
      ]
     },
     "execution_count": 19,
     "metadata": {},
     "output_type": "execute_result"
    }
   ],
   "source": [
    "url = 'https://www.imdb.com/chart/top/?ref_=nv_mv_250'\n",
    "page = requests.get(url, headers={'Accept-Language': \"lang=en-US\"})\n",
    "soup = BeautifulSoup(page.content, \"html.parser\")\n",
    "movies = soup.find_all('td', class_='titleColumn')\n",
    "movie_names = []\n",
    "for m in movies: \n",
    "    movie_names.append(m.find('a').text)\n",
    "movie_cast = []\n",
    "for m in movies: \n",
    "    movie_cast.append(m.find('a').attrs.get('title'))\n",
    "df_movies = pd.DataFrame(\n",
    "    {'name': movie_names,\n",
    "     'cast': movie_cast\n",
    "    })\n",
    "df_movies.head()"
   ]
  },
  {
   "cell_type": "code",
   "execution_count": 20,
   "id": "bb656573-4f72-4ea9-98e3-6060b05d085c",
   "metadata": {},
   "outputs": [
    {
     "data": {
      "text/plain": [
       "[<td class=\"titleColumn\">\n",
       "       1.\n",
       "       <a href=\"/title/tt0111161/\" title=\"Frank Darabont (dir.), Tim Robbins, Morgan Freeman\">The Shawshank Redemption</a>\n",
       " <span class=\"secondaryInfo\">(1994)</span>\n",
       " </td>,\n",
       " <td class=\"titleColumn\">\n",
       "       2.\n",
       "       <a href=\"/title/tt0068646/\" title=\"Francis Ford Coppola (dir.), Marlon Brando, Al Pacino\">The Godfather</a>\n",
       " <span class=\"secondaryInfo\">(1972)</span>\n",
       " </td>]"
      ]
     },
     "execution_count": 20,
     "metadata": {},
     "output_type": "execute_result"
    }
   ],
   "source": [
    "movies = soup.find_all('td', class_='titleColumn')\n",
    "movies[0:2]"
   ]
  },
  {
   "cell_type": "markdown",
   "id": "eab3ecae-79d5-49c2-a421-b7861e5ce616",
   "metadata": {},
   "source": [
    "1. Run the code above in order to produce a DataFrame called `df_movies` that contains all the movie titles and cast in the source website. How many rows and columns are there in the DataFrame?"
   ]
  },
  {
   "cell_type": "code",
   "execution_count": 21,
   "id": "d5f8921c-2ab1-4595-945c-4392a3fdbe3b",
   "metadata": {},
   "outputs": [
    {
     "name": "stdout",
     "output_type": "stream",
     "text": [
      "<class 'pandas.core.frame.DataFrame'>\n",
      "RangeIndex: 250 entries, 0 to 249\n",
      "Data columns (total 2 columns):\n",
      " #   Column  Non-Null Count  Dtype \n",
      "---  ------  --------------  ----- \n",
      " 0   name    250 non-null    object\n",
      " 1   cast    250 non-null    object\n",
      "dtypes: object(2)\n",
      "memory usage: 4.0+ KB\n"
     ]
    }
   ],
   "source": [
    "df_movies.info()"
   ]
  },
  {
   "cell_type": "markdown",
   "id": "1a1c39aa-43a8-4a4b-97dc-4d400a4b7d09",
   "metadata": {},
   "source": [
    "2. Using the same logic seen above, produce a new list, called `movie year`, containing the year in which the movie was produced. "
   ]
  },
  {
   "cell_type": "code",
   "execution_count": 37,
   "id": "6f71fd6c-48c8-4ad6-9837-44603b177c5a",
   "metadata": {},
   "outputs": [
    {
     "data": {
      "text/plain": [
       "['(1994)', '(1972)', '(2008)']"
      ]
     },
     "execution_count": 37,
     "metadata": {},
     "output_type": "execute_result"
    }
   ],
   "source": [
    "movie_year = []\n",
    "for m in movies:\n",
    "    movie_year.append(m.find('span', class_='secondaryInfo').text)\n",
    "movie_year[0:3]"
   ]
  },
  {
   "cell_type": "code",
   "execution_count": 67,
   "id": "87866171-a964-4f3c-8d0f-3b4f0e3dd173",
   "metadata": {},
   "outputs": [
    {
     "data": {
      "text/plain": [
       "250"
      ]
     },
     "execution_count": 67,
     "metadata": {},
     "output_type": "execute_result"
    }
   ],
   "source": [
    "len(movie_year)"
   ]
  },
  {
   "cell_type": "markdown",
   "id": "3eec22f4-ac66-4030-bff0-d141c1ee11c1",
   "metadata": {},
   "source": [
    "3. Using the same logic seen above, produce a new list, called `movie_rating_data`, containing the contents of the element `<td class=\"ratingColumn imdbRating\"> ... </td>`. \n",
    "- *Note1: the result for the first movie should be **'9.2 based on 2,602,995 user ratings'***\n",
    "- *Note2: first find all elements of tag `td` and parameter `class='ratingColumn imdbRating'`, then for each one of those elements, extract the `title` attribute of the `strong` tag.*"
   ]
  },
  {
   "cell_type": "code",
   "execution_count": 68,
   "id": "422e999c-711b-42f5-bff7-6db65656a07d",
   "metadata": {},
   "outputs": [
    {
     "data": {
      "text/plain": [
       "250"
      ]
     },
     "execution_count": 68,
     "metadata": {},
     "output_type": "execute_result"
    }
   ],
   "source": [
    "ratings = soup.find_all('td', class_='ratingColumn imdbRating')\n",
    "len(ratings)"
   ]
  },
  {
   "cell_type": "code",
   "execution_count": 71,
   "id": "bbfba7fd-7952-49e2-b0ba-469f445b536d",
   "metadata": {},
   "outputs": [],
   "source": [
    "movie_rate= []"
   ]
  },
  {
   "cell_type": "code",
   "execution_count": 72,
   "id": "be0eea1a-69d8-462b-a653-aaa31098b367",
   "metadata": {},
   "outputs": [
    {
     "data": {
      "text/plain": [
       "250"
      ]
     },
     "execution_count": 72,
     "metadata": {},
     "output_type": "execute_result"
    }
   ],
   "source": [
    "for r in ratings:\n",
    "    movie_rate.append(r.find('strong').attrs.get('title'))\n",
    "len(movie_rate)"
   ]
  },
  {
   "cell_type": "markdown",
   "id": "b59112c0-0344-4599-b9b0-ef9fcbb88e2b",
   "metadata": {},
   "source": [
    "4. From the question above, you should've retrieved an output similar to the following: **'9.2 based on 2,602,995 user ratings'**. Create two more lists `movie_rating` and `movie_voters` that store the rating of the movie and the total number of voters, respectively. "
   ]
  },
  {
   "cell_type": "code",
   "execution_count": 74,
   "id": "f15c4da2-f2bb-492b-8aca-e29517a1ddde",
   "metadata": {},
   "outputs": [
    {
     "data": {
      "text/plain": [
       "['9.2', '9.2', '9.0']"
      ]
     },
     "execution_count": 74,
     "metadata": {},
     "output_type": "execute_result"
    }
   ],
   "source": [
    "movie_rating = []\n",
    "for el in movie_rate:\n",
    "    movie_rating.append(el[0:3])\n",
    "movie_rating[0:3]"
   ]
  },
  {
   "cell_type": "code",
   "execution_count": 59,
   "id": "a3b4b30d-8cc2-48a9-a571-0d5fd315c88f",
   "metadata": {},
   "outputs": [],
   "source": [
    "#movie_voters = []\n",
    "#for el in movie_rating_data:\n",
    "#    movie_voters.append(el[13:22])\n",
    "#movie_voters[0:3]"
   ]
  },
  {
   "cell_type": "code",
   "execution_count": 75,
   "id": "d4e5cef6-1983-4118-98cc-e79d9789693e",
   "metadata": {},
   "outputs": [
    {
     "data": {
      "text/plain": [
       "250"
      ]
     },
     "execution_count": 75,
     "metadata": {},
     "output_type": "execute_result"
    }
   ],
   "source": [
    "movie_voters = []\n",
    "for el in movie_rate:\n",
    "    movie_voters.append(el.split(sep=' ')[3])\n",
    "len(movie_voters)"
   ]
  },
  {
   "cell_type": "markdown",
   "id": "2366e366-f564-482c-bdc2-20161f278aca",
   "metadata": {},
   "source": [
    "5. Given the three lists you just created, add to the existing `df_movies` DataFrame three new columns called `year`, `rating` and `voters` columns. Then add a new column to the same DataFrame called `rank` that show the ranking of each movie from 1 to 125. *Hint: you can use the `.index` attribute as part of the solution.*"
   ]
  },
  {
   "cell_type": "code",
   "execution_count": 76,
   "id": "139f1ef5-253e-44d3-bf47-30cbe0cd5816",
   "metadata": {},
   "outputs": [],
   "source": [
    "df_movies['year']= movie_year\n",
    "df_movies['rating']= movie_rating\n",
    "df_movies['voters']= movie_voters"
   ]
  },
  {
   "cell_type": "code",
   "execution_count": 82,
   "id": "9c891798-822f-4f6d-9a55-457f31c1e6ba",
   "metadata": {},
   "outputs": [
    {
     "data": {
      "text/html": [
       "<div>\n",
       "<style scoped>\n",
       "    .dataframe tbody tr th:only-of-type {\n",
       "        vertical-align: middle;\n",
       "    }\n",
       "\n",
       "    .dataframe tbody tr th {\n",
       "        vertical-align: top;\n",
       "    }\n",
       "\n",
       "    .dataframe thead th {\n",
       "        text-align: right;\n",
       "    }\n",
       "</style>\n",
       "<table border=\"1\" class=\"dataframe\">\n",
       "  <thead>\n",
       "    <tr style=\"text-align: right;\">\n",
       "      <th></th>\n",
       "      <th>name</th>\n",
       "      <th>cast</th>\n",
       "      <th>year</th>\n",
       "      <th>rating</th>\n",
       "      <th>voters</th>\n",
       "      <th>rank</th>\n",
       "    </tr>\n",
       "  </thead>\n",
       "  <tbody>\n",
       "    <tr>\n",
       "      <th>0</th>\n",
       "      <td>The Shawshank Redemption</td>\n",
       "      <td>Frank Darabont (dir.), Tim Robbins, Morgan Fre...</td>\n",
       "      <td>(1994)</td>\n",
       "      <td>9.2</td>\n",
       "      <td>2,604,856</td>\n",
       "      <td>1</td>\n",
       "    </tr>\n",
       "    <tr>\n",
       "      <th>1</th>\n",
       "      <td>The Godfather</td>\n",
       "      <td>Francis Ford Coppola (dir.), Marlon Brando, Al...</td>\n",
       "      <td>(1972)</td>\n",
       "      <td>9.2</td>\n",
       "      <td>1,800,296</td>\n",
       "      <td>2</td>\n",
       "    </tr>\n",
       "    <tr>\n",
       "      <th>2</th>\n",
       "      <td>The Dark Knight</td>\n",
       "      <td>Christopher Nolan (dir.), Christian Bale, Heat...</td>\n",
       "      <td>(2008)</td>\n",
       "      <td>9.0</td>\n",
       "      <td>2,576,411</td>\n",
       "      <td>3</td>\n",
       "    </tr>\n",
       "    <tr>\n",
       "      <th>3</th>\n",
       "      <td>The Godfather: Part II</td>\n",
       "      <td>Francis Ford Coppola (dir.), Al Pacino, Robert...</td>\n",
       "      <td>(1974)</td>\n",
       "      <td>9.0</td>\n",
       "      <td>1,239,839</td>\n",
       "      <td>4</td>\n",
       "    </tr>\n",
       "    <tr>\n",
       "      <th>4</th>\n",
       "      <td>12 Angry Men</td>\n",
       "      <td>Sidney Lumet (dir.), Henry Fonda, Lee J. Cobb</td>\n",
       "      <td>(1957)</td>\n",
       "      <td>8.9</td>\n",
       "      <td>769,628</td>\n",
       "      <td>5</td>\n",
       "    </tr>\n",
       "    <tr>\n",
       "      <th>...</th>\n",
       "      <td>...</td>\n",
       "      <td>...</td>\n",
       "      <td>...</td>\n",
       "      <td>...</td>\n",
       "      <td>...</td>\n",
       "      <td>...</td>\n",
       "    </tr>\n",
       "    <tr>\n",
       "      <th>245</th>\n",
       "      <td>Aladdin</td>\n",
       "      <td>Ron Clements (dir.), Scott Weinger, Robin Will...</td>\n",
       "      <td>(1992)</td>\n",
       "      <td>8.0</td>\n",
       "      <td>407,704</td>\n",
       "      <td>246</td>\n",
       "    </tr>\n",
       "    <tr>\n",
       "      <th>246</th>\n",
       "      <td>Jai Bhim</td>\n",
       "      <td>T.J. Gnanavel (dir.), Suriya, Lijo Mol Jose</td>\n",
       "      <td>(2021)</td>\n",
       "      <td>8.0</td>\n",
       "      <td>191,569</td>\n",
       "      <td>247</td>\n",
       "    </tr>\n",
       "    <tr>\n",
       "      <th>247</th>\n",
       "      <td>Gandhi</td>\n",
       "      <td>Richard Attenborough (dir.), Ben Kingsley, Joh...</td>\n",
       "      <td>(1982)</td>\n",
       "      <td>8.0</td>\n",
       "      <td>229,187</td>\n",
       "      <td>248</td>\n",
       "    </tr>\n",
       "    <tr>\n",
       "      <th>248</th>\n",
       "      <td>The Help</td>\n",
       "      <td>Tate Taylor (dir.), Emma Stone, Viola Davis</td>\n",
       "      <td>(2011)</td>\n",
       "      <td>8.0</td>\n",
       "      <td>452,351</td>\n",
       "      <td>249</td>\n",
       "    </tr>\n",
       "    <tr>\n",
       "      <th>249</th>\n",
       "      <td>Beauty and the Beast</td>\n",
       "      <td>Gary Trousdale (dir.), Paige O'Hara, Robby Benson</td>\n",
       "      <td>(1991)</td>\n",
       "      <td>8.0</td>\n",
       "      <td>446,531</td>\n",
       "      <td>250</td>\n",
       "    </tr>\n",
       "  </tbody>\n",
       "</table>\n",
       "<p>250 rows × 6 columns</p>\n",
       "</div>"
      ],
      "text/plain": [
       "                         name  \\\n",
       "0    The Shawshank Redemption   \n",
       "1               The Godfather   \n",
       "2             The Dark Knight   \n",
       "3      The Godfather: Part II   \n",
       "4                12 Angry Men   \n",
       "..                        ...   \n",
       "245                   Aladdin   \n",
       "246                  Jai Bhim   \n",
       "247                    Gandhi   \n",
       "248                  The Help   \n",
       "249      Beauty and the Beast   \n",
       "\n",
       "                                                  cast    year rating  \\\n",
       "0    Frank Darabont (dir.), Tim Robbins, Morgan Fre...  (1994)    9.2   \n",
       "1    Francis Ford Coppola (dir.), Marlon Brando, Al...  (1972)    9.2   \n",
       "2    Christopher Nolan (dir.), Christian Bale, Heat...  (2008)    9.0   \n",
       "3    Francis Ford Coppola (dir.), Al Pacino, Robert...  (1974)    9.0   \n",
       "4        Sidney Lumet (dir.), Henry Fonda, Lee J. Cobb  (1957)    8.9   \n",
       "..                                                 ...     ...    ...   \n",
       "245  Ron Clements (dir.), Scott Weinger, Robin Will...  (1992)    8.0   \n",
       "246        T.J. Gnanavel (dir.), Suriya, Lijo Mol Jose  (2021)    8.0   \n",
       "247  Richard Attenborough (dir.), Ben Kingsley, Joh...  (1982)    8.0   \n",
       "248        Tate Taylor (dir.), Emma Stone, Viola Davis  (2011)    8.0   \n",
       "249  Gary Trousdale (dir.), Paige O'Hara, Robby Benson  (1991)    8.0   \n",
       "\n",
       "        voters  rank  \n",
       "0    2,604,856     1  \n",
       "1    1,800,296     2  \n",
       "2    2,576,411     3  \n",
       "3    1,239,839     4  \n",
       "4      769,628     5  \n",
       "..         ...   ...  \n",
       "245    407,704   246  \n",
       "246    191,569   247  \n",
       "247    229,187   248  \n",
       "248    452,351   249  \n",
       "249    446,531   250  \n",
       "\n",
       "[250 rows x 6 columns]"
      ]
     },
     "execution_count": 82,
     "metadata": {},
     "output_type": "execute_result"
    }
   ],
   "source": [
    "df_movies['rank'] = df_movies.index + 1\n",
    "df_movies"
   ]
  },
  {
   "cell_type": "code",
   "execution_count": null,
   "id": "ecfa0843-7b19-497a-a325-f4850fd8dc74",
   "metadata": {},
   "outputs": [],
   "source": []
  }
 ],
 "metadata": {
  "kernelspec": {
   "display_name": "Python 3 (ipykernel)",
   "language": "python",
   "name": "python3"
  },
  "language_info": {
   "codemirror_mode": {
    "name": "ipython",
    "version": 3
   },
   "file_extension": ".py",
   "mimetype": "text/x-python",
   "name": "python",
   "nbconvert_exporter": "python",
   "pygments_lexer": "ipython3",
   "version": "3.9.12"
  }
 },
 "nbformat": 4,
 "nbformat_minor": 5
}
