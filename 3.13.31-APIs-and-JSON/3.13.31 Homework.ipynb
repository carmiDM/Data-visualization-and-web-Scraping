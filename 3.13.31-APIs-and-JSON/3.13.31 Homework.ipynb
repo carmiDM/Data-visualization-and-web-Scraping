{
 "cells": [
  {
   "cell_type": "markdown",
   "id": "f8d39ff1-490e-4110-9ff1-8880fdba895c",
   "metadata": {},
   "source": [
    "### Homework"
   ]
  },
  {
   "cell_type": "markdown",
   "id": "e5aac0b8-67cf-496d-8b82-d7a2910ef36b",
   "metadata": {},
   "source": [
    "Before you begin, remember to import the necessary libraries."
   ]
  },
  {
   "cell_type": "code",
   "execution_count": 12,
   "id": "33de4fa0-4c6b-412e-9d31-b60b777ec39a",
   "metadata": {},
   "outputs": [],
   "source": [
    "import numpy as np\n",
    "import pandas as pd\n",
    "\n",
    "%matplotlib inline\n",
    "import matplotlib\n",
    "import matplotlib.pyplot as plt\n",
    "import seaborn as sns\n",
    "\n",
    "import requests"
   ]
  },
  {
   "cell_type": "markdown",
   "id": "a6be9786-ed96-4ab6-bf58-711b6fcef982",
   "metadata": {},
   "source": [
    "#### Standard Exercises"
   ]
  },
  {
   "cell_type": "markdown",
   "id": "46ff93bc-badf-4ca9-a22f-0695e4ea5ea7",
   "metadata": {},
   "source": [
    "In this exercise, you will use the [Makeup API](https://makeup-api.herokuapp.com/) from the [website](https://mixedanalytics.com/blog/list-actually-free-open-no-auth-needed-apis/) we saw in class to retrieve and analyse the [data related to the Maybelline brand](https://makeup-api.herokuapp.com/api/v1/products.json?brand=maybelline)."
   ]
  },
  {
   "cell_type": "markdown",
   "id": "1e9b46db-0f67-4b99-940e-38a8eba9498d",
   "metadata": {},
   "source": [
    "1. Save the sample URL / endpoint as a string to an object called `url` and, unig the `get()` function from the `requests` library, make an HTTP request and save it to a new object named `mkp`."
   ]
  },
  {
   "cell_type": "code",
   "execution_count": 2,
   "id": "ad08b583-bea2-4412-8b26-f3b2602e0e97",
   "metadata": {},
   "outputs": [],
   "source": [
    "url = 'http://makeup-api.herokuapp.com/api/v1/products.json?brand=maybelline&limit=1000'\n",
    "r= requests.get(url)"
   ]
  },
  {
   "cell_type": "markdown",
   "id": "f489e47a-19a6-4e74-bbdf-391fefd2b230",
   "metadata": {},
   "source": [
    "2. Check that the status of the request from the previous point was successful *(hint: 200 = OK)*."
   ]
  },
  {
   "cell_type": "code",
   "execution_count": 3,
   "id": "cdd35a73-f5e3-492a-a19a-58f8cbfe521f",
   "metadata": {},
   "outputs": [
    {
     "data": {
      "text/plain": [
       "200"
      ]
     },
     "execution_count": 3,
     "metadata": {},
     "output_type": "execute_result"
    }
   ],
   "source": [
    "r.status_code"
   ]
  },
  {
   "cell_type": "markdown",
   "id": "49870721-12ab-48d2-bef2-1d1fd5d3b319",
   "metadata": {},
   "source": [
    "3. Using the `.json()` method, check the contents of the data you retrieved via the API call. Then, using the `pd.DataFrame.from_dict()` function, save its contents to a DataFrame named `mkp_df`."
   ]
  },
  {
   "cell_type": "code",
   "execution_count": 4,
   "id": "5a6477f4-dd65-4930-9c29-0968a8cce160",
   "metadata": {
    "collapsed": true,
    "jupyter": {
     "outputs_hidden": true
    },
    "tags": []
   },
   "outputs": [
    {
     "data": {
      "text/plain": [
       "[{'id': 495,\n",
       "  'brand': 'maybelline',\n",
       "  'name': 'Maybelline Face Studio Master Hi-Light Light Booster Bronzer',\n",
       "  'price': '14.99',\n",
       "  'price_sign': None,\n",
       "  'currency': None,\n",
       "  'image_link': 'https://d3t32hsnjxo7q6.cloudfront.net/i/991799d3e70b8856686979f8ff6dcfe0_ra,w158,h184_pa,w158,h184.png',\n",
       "  'product_link': 'https://well.ca/products/maybelline-face-studio-master_88837.html',\n",
       "  'website_link': 'https://well.ca',\n",
       "  'description': 'Maybelline Face Studio Master Hi-Light Light Boosting bronzer formula has an expert \\nbalance of shade + shimmer illuminator for natural glow. Skin goes \\nsoft-lit with zero glitz.\\n\\n\\t\\tFor Best Results: Brush over all shades in palette and gently sweep over \\ncheekbones, brow bones, and temples, or anywhere light naturally touches\\n the face.\\n\\n\\t\\t\\n\\t\\n\\n                    ',\n",
       "  'rating': 5.0,\n",
       "  'category': None,\n",
       "  'product_type': 'bronzer',\n",
       "  'tag_list': [],\n",
       "  'created_at': '2016-10-01T18:36:15.012Z',\n",
       "  'updated_at': '2017-12-23T21:08:50.624Z',\n",
       "  'product_api_url': 'http://makeup-api.herokuapp.com/api/v1/products/495.json',\n",
       "  'api_featured_image': '//s3.amazonaws.com/donovanbailey/products/api_featured_images/000/000/495/original/open-uri20171223-4-9hrto4?1514063330',\n",
       "  'product_colors': []},\n",
       " {'id': 488,\n",
       "  'brand': 'maybelline',\n",
       "  'name': 'Maybelline Fit Me Bronzer',\n",
       "  'price': '10.29',\n",
       "  'price_sign': None,\n",
       "  'currency': None,\n",
       "  'image_link': 'https://d3t32hsnjxo7q6.cloudfront.net/i/d4f7d82b4858c622bb3c1cef07b9d850_ra,w158,h184_pa,w158,h184.png',\n",
       "  'product_link': 'https://well.ca/products/maybelline-fit-me-bronzer_31265.html',\n",
       "  'website_link': 'https://well.ca',\n",
       "  'description': \"Why You'll Love It\\n\\nLightweight pigments blend easily and wear evenly\\nProvides a natural, fade-proof bronzed color that leaves skin the way it was meant to be...fresh, breathing and natural\\n\\nFor Best Results: For soft, natural look, brush along cheekbone, sweeping upward.\",\n",
       "  'rating': 4.5,\n",
       "  'category': None,\n",
       "  'product_type': 'bronzer',\n",
       "  'tag_list': [],\n",
       "  'created_at': '2016-10-01T18:36:05.584Z',\n",
       "  'updated_at': '2017-12-23T21:08:49.985Z',\n",
       "  'product_api_url': 'http://makeup-api.herokuapp.com/api/v1/products/488.json',\n",
       "  'api_featured_image': '//s3.amazonaws.com/donovanbailey/products/api_featured_images/000/000/488/original/open-uri20171223-4-deo82c?1514063329',\n",
       "  'product_colors': [{'hex_value': '#CF9978',\n",
       "    'colour_name': 'Medium Bronze '}]},\n",
       " {'id': 477,\n",
       "  'brand': 'maybelline',\n",
       "  'name': 'Maybelline Facestudio Master Contour Kit',\n",
       "  'price': '15.99',\n",
       "  'price_sign': None,\n",
       "  'currency': None,\n",
       "  'image_link': 'https://d3t32hsnjxo7q6.cloudfront.net/i/4f731de249cbd4cb819ea7f5f4cfb5c3_ra,w158,h184_pa,w158,h184.png',\n",
       "  'product_link': 'https://well.ca/products/maybelline-facestudio-master-contour_120303.html?cat=328',\n",
       "  'website_link': 'https://well.ca',\n",
       "  'description': 'Maybelline Facestudio Master Contour Kit is the ultimate on the go all-in-one palette, with contouring brush included.\\xa0 Define and highlight in a New York minute with this effortless 3-step face contouring kit. \\xa0This easy-to-use 3-step face contouring kit features a bronzer, blush and highlighter.',\n",
       "  'rating': None,\n",
       "  'category': None,\n",
       "  'product_type': 'bronzer',\n",
       "  'tag_list': [],\n",
       "  'created_at': '2016-10-01T18:35:40.504Z',\n",
       "  'updated_at': '2017-12-23T21:08:48.157Z',\n",
       "  'product_api_url': 'http://makeup-api.herokuapp.com/api/v1/products/477.json',\n",
       "  'api_featured_image': '//s3.amazonaws.com/donovanbailey/products/api_featured_images/000/000/477/original/open-uri20171223-4-1m8bc4v?1514063328',\n",
       "  'product_colors': [{'hex_value': '#9B7163', 'colour_name': None},\n",
       "   {'hex_value': '#D78A89', 'colour_name': None},\n",
       "   {'hex_value': '#DBB7A9', 'colour_name': None}]}]"
      ]
     },
     "execution_count": 4,
     "metadata": {},
     "output_type": "execute_result"
    }
   ],
   "source": [
    "r.json()[0:3]"
   ]
  },
  {
   "cell_type": "code",
   "execution_count": 5,
   "id": "e8ea980f-fe77-4626-a910-f44d400310e5",
   "metadata": {},
   "outputs": [
    {
     "data": {
      "text/plain": [
       "54"
      ]
     },
     "execution_count": 5,
     "metadata": {},
     "output_type": "execute_result"
    }
   ],
   "source": [
    "len(r.json())"
   ]
  },
  {
   "cell_type": "code",
   "execution_count": 6,
   "id": "c2207993-f0d2-4a82-91ae-ea87be255a2f",
   "metadata": {},
   "outputs": [
    {
     "data": {
      "text/html": [
       "<div>\n",
       "<style scoped>\n",
       "    .dataframe tbody tr th:only-of-type {\n",
       "        vertical-align: middle;\n",
       "    }\n",
       "\n",
       "    .dataframe tbody tr th {\n",
       "        vertical-align: top;\n",
       "    }\n",
       "\n",
       "    .dataframe thead th {\n",
       "        text-align: right;\n",
       "    }\n",
       "</style>\n",
       "<table border=\"1\" class=\"dataframe\">\n",
       "  <thead>\n",
       "    <tr style=\"text-align: right;\">\n",
       "      <th></th>\n",
       "      <th>id</th>\n",
       "      <th>brand</th>\n",
       "      <th>name</th>\n",
       "      <th>price</th>\n",
       "      <th>price_sign</th>\n",
       "      <th>currency</th>\n",
       "      <th>image_link</th>\n",
       "      <th>product_link</th>\n",
       "      <th>website_link</th>\n",
       "      <th>description</th>\n",
       "      <th>rating</th>\n",
       "      <th>category</th>\n",
       "      <th>product_type</th>\n",
       "      <th>tag_list</th>\n",
       "      <th>created_at</th>\n",
       "      <th>updated_at</th>\n",
       "      <th>product_api_url</th>\n",
       "      <th>api_featured_image</th>\n",
       "      <th>product_colors</th>\n",
       "    </tr>\n",
       "  </thead>\n",
       "  <tbody>\n",
       "    <tr>\n",
       "      <th>0</th>\n",
       "      <td>495</td>\n",
       "      <td>maybelline</td>\n",
       "      <td>Maybelline Face Studio Master Hi-Light Light B...</td>\n",
       "      <td>14.99</td>\n",
       "      <td>None</td>\n",
       "      <td>None</td>\n",
       "      <td>https://d3t32hsnjxo7q6.cloudfront.net/i/991799...</td>\n",
       "      <td>https://well.ca/products/maybelline-face-studi...</td>\n",
       "      <td>https://well.ca</td>\n",
       "      <td>Maybelline Face Studio Master Hi-Light Light B...</td>\n",
       "      <td>5.0</td>\n",
       "      <td>None</td>\n",
       "      <td>bronzer</td>\n",
       "      <td>[]</td>\n",
       "      <td>2016-10-01T18:36:15.012Z</td>\n",
       "      <td>2017-12-23T21:08:50.624Z</td>\n",
       "      <td>http://makeup-api.herokuapp.com/api/v1/product...</td>\n",
       "      <td>//s3.amazonaws.com/donovanbailey/products/api_...</td>\n",
       "      <td>[]</td>\n",
       "    </tr>\n",
       "    <tr>\n",
       "      <th>1</th>\n",
       "      <td>488</td>\n",
       "      <td>maybelline</td>\n",
       "      <td>Maybelline Fit Me Bronzer</td>\n",
       "      <td>10.29</td>\n",
       "      <td>None</td>\n",
       "      <td>None</td>\n",
       "      <td>https://d3t32hsnjxo7q6.cloudfront.net/i/d4f7d8...</td>\n",
       "      <td>https://well.ca/products/maybelline-fit-me-bro...</td>\n",
       "      <td>https://well.ca</td>\n",
       "      <td>Why You'll Love It\\n\\nLightweight pigments ble...</td>\n",
       "      <td>4.5</td>\n",
       "      <td>None</td>\n",
       "      <td>bronzer</td>\n",
       "      <td>[]</td>\n",
       "      <td>2016-10-01T18:36:05.584Z</td>\n",
       "      <td>2017-12-23T21:08:49.985Z</td>\n",
       "      <td>http://makeup-api.herokuapp.com/api/v1/product...</td>\n",
       "      <td>//s3.amazonaws.com/donovanbailey/products/api_...</td>\n",
       "      <td>[{'hex_value': '#CF9978', 'colour_name': 'Medi...</td>\n",
       "    </tr>\n",
       "    <tr>\n",
       "      <th>2</th>\n",
       "      <td>477</td>\n",
       "      <td>maybelline</td>\n",
       "      <td>Maybelline Facestudio Master Contour Kit</td>\n",
       "      <td>15.99</td>\n",
       "      <td>None</td>\n",
       "      <td>None</td>\n",
       "      <td>https://d3t32hsnjxo7q6.cloudfront.net/i/4f731d...</td>\n",
       "      <td>https://well.ca/products/maybelline-facestudio...</td>\n",
       "      <td>https://well.ca</td>\n",
       "      <td>Maybelline Facestudio Master Contour Kit is th...</td>\n",
       "      <td>NaN</td>\n",
       "      <td>None</td>\n",
       "      <td>bronzer</td>\n",
       "      <td>[]</td>\n",
       "      <td>2016-10-01T18:35:40.504Z</td>\n",
       "      <td>2017-12-23T21:08:48.157Z</td>\n",
       "      <td>http://makeup-api.herokuapp.com/api/v1/product...</td>\n",
       "      <td>//s3.amazonaws.com/donovanbailey/products/api_...</td>\n",
       "      <td>[{'hex_value': '#9B7163', 'colour_name': None}...</td>\n",
       "    </tr>\n",
       "    <tr>\n",
       "      <th>3</th>\n",
       "      <td>468</td>\n",
       "      <td>maybelline</td>\n",
       "      <td>Maybelline Face Studio Master Hi-Light Light B...</td>\n",
       "      <td>14.99</td>\n",
       "      <td>None</td>\n",
       "      <td>None</td>\n",
       "      <td>https://d3t32hsnjxo7q6.cloudfront.net/i/462103...</td>\n",
       "      <td>https://well.ca/products/maybelline-face-studi...</td>\n",
       "      <td>https://well.ca</td>\n",
       "      <td>Maybelline Face Studio Master Hi-Light Light B...</td>\n",
       "      <td>NaN</td>\n",
       "      <td>powder</td>\n",
       "      <td>blush</td>\n",
       "      <td>[]</td>\n",
       "      <td>2016-10-01T18:35:27.706Z</td>\n",
       "      <td>2017-12-23T21:08:47.102Z</td>\n",
       "      <td>http://makeup-api.herokuapp.com/api/v1/product...</td>\n",
       "      <td>//s3.amazonaws.com/donovanbailey/products/api_...</td>\n",
       "      <td>[]</td>\n",
       "    </tr>\n",
       "    <tr>\n",
       "      <th>4</th>\n",
       "      <td>452</td>\n",
       "      <td>maybelline</td>\n",
       "      <td>Maybelline Face Studio Master Hi-Light Light B...</td>\n",
       "      <td>14.99</td>\n",
       "      <td>None</td>\n",
       "      <td>None</td>\n",
       "      <td>https://d3t32hsnjxo7q6.cloudfront.net/i/e8c59b...</td>\n",
       "      <td>https://well.ca/products/maybelline-face-studi...</td>\n",
       "      <td>https://well.ca</td>\n",
       "      <td>Maybelline Face Studio Master Hi-Light Light B...</td>\n",
       "      <td>5.0</td>\n",
       "      <td>powder</td>\n",
       "      <td>blush</td>\n",
       "      <td>[]</td>\n",
       "      <td>2016-10-01T18:35:07.476Z</td>\n",
       "      <td>2017-12-23T20:51:17.460Z</td>\n",
       "      <td>http://makeup-api.herokuapp.com/api/v1/product...</td>\n",
       "      <td>//s3.amazonaws.com/donovanbailey/products/api_...</td>\n",
       "      <td>[]</td>\n",
       "    </tr>\n",
       "  </tbody>\n",
       "</table>\n",
       "</div>"
      ],
      "text/plain": [
       "    id       brand                                               name  price  \\\n",
       "0  495  maybelline  Maybelline Face Studio Master Hi-Light Light B...  14.99   \n",
       "1  488  maybelline                          Maybelline Fit Me Bronzer  10.29   \n",
       "2  477  maybelline           Maybelline Facestudio Master Contour Kit  15.99   \n",
       "3  468  maybelline  Maybelline Face Studio Master Hi-Light Light B...  14.99   \n",
       "4  452  maybelline  Maybelline Face Studio Master Hi-Light Light B...  14.99   \n",
       "\n",
       "  price_sign currency                                         image_link  \\\n",
       "0       None     None  https://d3t32hsnjxo7q6.cloudfront.net/i/991799...   \n",
       "1       None     None  https://d3t32hsnjxo7q6.cloudfront.net/i/d4f7d8...   \n",
       "2       None     None  https://d3t32hsnjxo7q6.cloudfront.net/i/4f731d...   \n",
       "3       None     None  https://d3t32hsnjxo7q6.cloudfront.net/i/462103...   \n",
       "4       None     None  https://d3t32hsnjxo7q6.cloudfront.net/i/e8c59b...   \n",
       "\n",
       "                                        product_link     website_link  \\\n",
       "0  https://well.ca/products/maybelline-face-studi...  https://well.ca   \n",
       "1  https://well.ca/products/maybelline-fit-me-bro...  https://well.ca   \n",
       "2  https://well.ca/products/maybelline-facestudio...  https://well.ca   \n",
       "3  https://well.ca/products/maybelline-face-studi...  https://well.ca   \n",
       "4  https://well.ca/products/maybelline-face-studi...  https://well.ca   \n",
       "\n",
       "                                         description  rating category  \\\n",
       "0  Maybelline Face Studio Master Hi-Light Light B...     5.0     None   \n",
       "1  Why You'll Love It\\n\\nLightweight pigments ble...     4.5     None   \n",
       "2  Maybelline Facestudio Master Contour Kit is th...     NaN     None   \n",
       "3  Maybelline Face Studio Master Hi-Light Light B...     NaN   powder   \n",
       "4  Maybelline Face Studio Master Hi-Light Light B...     5.0   powder   \n",
       "\n",
       "  product_type tag_list                created_at                updated_at  \\\n",
       "0      bronzer       []  2016-10-01T18:36:15.012Z  2017-12-23T21:08:50.624Z   \n",
       "1      bronzer       []  2016-10-01T18:36:05.584Z  2017-12-23T21:08:49.985Z   \n",
       "2      bronzer       []  2016-10-01T18:35:40.504Z  2017-12-23T21:08:48.157Z   \n",
       "3        blush       []  2016-10-01T18:35:27.706Z  2017-12-23T21:08:47.102Z   \n",
       "4        blush       []  2016-10-01T18:35:07.476Z  2017-12-23T20:51:17.460Z   \n",
       "\n",
       "                                     product_api_url  \\\n",
       "0  http://makeup-api.herokuapp.com/api/v1/product...   \n",
       "1  http://makeup-api.herokuapp.com/api/v1/product...   \n",
       "2  http://makeup-api.herokuapp.com/api/v1/product...   \n",
       "3  http://makeup-api.herokuapp.com/api/v1/product...   \n",
       "4  http://makeup-api.herokuapp.com/api/v1/product...   \n",
       "\n",
       "                                  api_featured_image  \\\n",
       "0  //s3.amazonaws.com/donovanbailey/products/api_...   \n",
       "1  //s3.amazonaws.com/donovanbailey/products/api_...   \n",
       "2  //s3.amazonaws.com/donovanbailey/products/api_...   \n",
       "3  //s3.amazonaws.com/donovanbailey/products/api_...   \n",
       "4  //s3.amazonaws.com/donovanbailey/products/api_...   \n",
       "\n",
       "                                      product_colors  \n",
       "0                                                 []  \n",
       "1  [{'hex_value': '#CF9978', 'colour_name': 'Medi...  \n",
       "2  [{'hex_value': '#9B7163', 'colour_name': None}...  \n",
       "3                                                 []  \n",
       "4                                                 []  "
      ]
     },
     "execution_count": 6,
     "metadata": {},
     "output_type": "execute_result"
    }
   ],
   "source": [
    "mkp_df = pd.DataFrame.from_dict(r.json())\n",
    "mkp_df.head()"
   ]
  },
  {
   "cell_type": "markdown",
   "id": "6cc82f49-a3eb-4798-8797-aca6a9007a73",
   "metadata": {},
   "source": [
    "4. Check the data type of all columns in the DataFrame. The `price` variable is stored as a string, but it should be a numeric variable. Convert it to numeric."
   ]
  },
  {
   "cell_type": "code",
   "execution_count": 9,
   "id": "316e2812-7df7-41ed-85a3-89709a4d0478",
   "metadata": {},
   "outputs": [
    {
     "name": "stdout",
     "output_type": "stream",
     "text": [
      "<class 'pandas.core.frame.DataFrame'>\n",
      "RangeIndex: 54 entries, 0 to 53\n",
      "Data columns (total 19 columns):\n",
      " #   Column              Non-Null Count  Dtype  \n",
      "---  ------              --------------  -----  \n",
      " 0   id                  54 non-null     int64  \n",
      " 1   brand               54 non-null     object \n",
      " 2   name                54 non-null     object \n",
      " 3   price               54 non-null     float64\n",
      " 4   price_sign          0 non-null      object \n",
      " 5   currency            0 non-null      object \n",
      " 6   image_link          54 non-null     object \n",
      " 7   product_link        54 non-null     object \n",
      " 8   website_link        54 non-null     object \n",
      " 9   description         54 non-null     object \n",
      " 10  rating              46 non-null     float64\n",
      " 11  category            31 non-null     object \n",
      " 12  product_type        54 non-null     object \n",
      " 13  tag_list            54 non-null     object \n",
      " 14  created_at          54 non-null     object \n",
      " 15  updated_at          54 non-null     object \n",
      " 16  product_api_url     54 non-null     object \n",
      " 17  api_featured_image  54 non-null     object \n",
      " 18  product_colors      54 non-null     object \n",
      "dtypes: float64(2), int64(1), object(16)\n",
      "memory usage: 8.1+ KB\n"
     ]
    }
   ],
   "source": [
    "mkp_df.info()"
   ]
  },
  {
   "cell_type": "code",
   "execution_count": 8,
   "id": "7cb359bf-f18d-4f76-ae47-8c585acddb30",
   "metadata": {},
   "outputs": [],
   "source": [
    "mkp_df['price'] = pd.to_numeric(mkp_df['price'])"
   ]
  },
  {
   "cell_type": "markdown",
   "id": "6504c403-25ba-4383-927f-5e4dc159fde7",
   "metadata": {},
   "source": [
    "5. Create a new DataFrame named `mkp_df_group` where you group all the `product_type`s and show their average price and rating. "
   ]
  },
  {
   "cell_type": "code",
   "execution_count": 12,
   "id": "f5daaad6-5757-4587-9daa-1faa34e2cf5a",
   "metadata": {
    "tags": []
   },
   "outputs": [
    {
     "data": {
      "text/html": [
       "<div>\n",
       "<style scoped>\n",
       "    .dataframe tbody tr th:only-of-type {\n",
       "        vertical-align: middle;\n",
       "    }\n",
       "\n",
       "    .dataframe tbody tr th {\n",
       "        vertical-align: top;\n",
       "    }\n",
       "\n",
       "    .dataframe thead th {\n",
       "        text-align: right;\n",
       "    }\n",
       "</style>\n",
       "<table border=\"1\" class=\"dataframe\">\n",
       "  <thead>\n",
       "    <tr style=\"text-align: right;\">\n",
       "      <th></th>\n",
       "      <th>product_type</th>\n",
       "      <th>price</th>\n",
       "      <th>rating</th>\n",
       "    </tr>\n",
       "  </thead>\n",
       "  <tbody>\n",
       "    <tr>\n",
       "      <th>0</th>\n",
       "      <td>bronzer</td>\n",
       "      <td>14.99</td>\n",
       "      <td>5.0</td>\n",
       "    </tr>\n",
       "    <tr>\n",
       "      <th>1</th>\n",
       "      <td>bronzer</td>\n",
       "      <td>10.29</td>\n",
       "      <td>4.5</td>\n",
       "    </tr>\n",
       "    <tr>\n",
       "      <th>2</th>\n",
       "      <td>bronzer</td>\n",
       "      <td>15.99</td>\n",
       "      <td>NaN</td>\n",
       "    </tr>\n",
       "    <tr>\n",
       "      <th>3</th>\n",
       "      <td>blush</td>\n",
       "      <td>14.99</td>\n",
       "      <td>NaN</td>\n",
       "    </tr>\n",
       "    <tr>\n",
       "      <th>4</th>\n",
       "      <td>blush</td>\n",
       "      <td>14.99</td>\n",
       "      <td>5.0</td>\n",
       "    </tr>\n",
       "  </tbody>\n",
       "</table>\n",
       "</div>"
      ],
      "text/plain": [
       "  product_type  price  rating\n",
       "0      bronzer  14.99     5.0\n",
       "1      bronzer  10.29     4.5\n",
       "2      bronzer  15.99     NaN\n",
       "3        blush  14.99     NaN\n",
       "4        blush  14.99     5.0"
      ]
     },
     "execution_count": 12,
     "metadata": {},
     "output_type": "execute_result"
    }
   ],
   "source": [
    "mkp_df_group = mkp_df[['product_type', 'price', 'rating']]\n",
    "mkp_df_group.head()"
   ]
  },
  {
   "cell_type": "markdown",
   "id": "879fa2f7-0d78-4c77-9b8d-e0585d392127",
   "metadata": {},
   "source": [
    "6. Create a scatterplot where you show the relationship between the `price` (on the x-axis) and the `rating` (on the y-axis) variables. "
   ]
  },
  {
   "cell_type": "code",
   "execution_count": 16,
   "id": "f02b4837-f00a-4f41-8eff-d4b69b2664cd",
   "metadata": {},
   "outputs": [
    {
     "data": {
      "text/plain": [
       "<AxesSubplot:xlabel='price', ylabel='rating'>"
      ]
     },
     "execution_count": 16,
     "metadata": {},
     "output_type": "execute_result"
    },
    {
     "data": {
      "image/png": "[encoded data removed]",
      "text/plain": [
       "<Figure size 936x504 with 1 Axes>"
      ]
     },
     "metadata": {},
     "output_type": "display_data"
    }
   ],
   "source": [
    "sns.set(rc={'figure.figsize':(13, 7)}) \n",
    "sns.scatterplot(x='price', y='rating', hue= 'product_type', data= mkp_df_group)"
   ]
  },
  {
   "cell_type": "markdown",
   "id": "b34b8a2b-6a9b-4dd9-b13d-dfd364817afd",
   "metadata": {},
   "source": [
    "7. If you were to speak to the product department, which of these products would you recommend them to focus on in order to improve the overall customer satisfaction, considering their value for money?"
   ]
  },
  {
   "cell_type": "markdown",
   "id": "4fd17157-a64c-41b3-9e0f-d3b6aa484a1c",
   "metadata": {},
   "source": [
    "it is useful to improve or understand customer necessities about product as foundation that has a good price but probably the rating depend on the type of product"
   ]
  },
  {
   "cell_type": "markdown",
   "id": "d6a9609a-ae46-4a27-8e7d-40eaeb1e0f7d",
   "metadata": {},
   "source": [
    "#### Advanced Exercises"
   ]
  },
  {
   "cell_type": "markdown",
   "id": "81573dda-b82c-4ca0-a447-10408c946927",
   "metadata": {},
   "source": [
    "1. Using an HTTP request to the City of Milan's API endpoint that you will find at [this web page](https://dati.comune.milano.it/dataset/ds411-rilevazione-qualita-aria-2022/resource/e1cc82ec-97bb-463c-a3fb-b61be60f0956), retrieve its data and save it to a DataFrame named `df`. *(hint: careful at the number or records you're retrieving, to be sure, set the limit parameter to be greater than the total number of rows available for that dataset)*"
   ]
  },
  {
   "cell_type": "code",
   "execution_count": 29,
   "id": "a35a5b51-019b-4a10-bfb7-a7dbf7b27c70",
   "metadata": {},
   "outputs": [],
   "source": [
    "url = 'https://dati.comune.milano.it/api/3/action/datastore_search?resource_id=e1cc82ec-97bb-463c-a3fb-b61be60f0956&limit=3070'\n",
    "\n",
    "r1=requests.get(url)"
   ]
  },
  {
   "cell_type": "code",
   "execution_count": 30,
   "id": "2cbca26f-42a9-4e4d-86b6-30d6eed5a6c9",
   "metadata": {},
   "outputs": [
    {
     "data": {
      "text/plain": [
       "200"
      ]
     },
     "execution_count": 30,
     "metadata": {},
     "output_type": "execute_result"
    }
   ],
   "source": [
    "r1.status_code"
   ]
  },
  {
   "cell_type": "code",
   "execution_count": 37,
   "id": "1f42a8ad-7dba-4662-85b4-4415bd695935",
   "metadata": {
    "tags": []
   },
   "outputs": [
    {
     "data": {
      "text/plain": [
       "[{'_id': 1,\n",
       "  'stazione_id': 1,\n",
       "  'data': '2022-06-22T00:00:00',\n",
       "  'inquinante': 'NO2',\n",
       "  'valore': None},\n",
       " {'_id': 2,\n",
       "  'stazione_id': 2,\n",
       "  'data': '2022-06-22T00:00:00',\n",
       "  'inquinante': 'C6H6',\n",
       "  'valore': None},\n",
       " {'_id': 3,\n",
       "  'stazione_id': 2,\n",
       "  'data': '2022-06-22T00:00:00',\n",
       "  'inquinante': 'NO2',\n",
       "  'valore': 25}]"
      ]
     },
     "execution_count": 37,
     "metadata": {},
     "output_type": "execute_result"
    }
   ],
   "source": [
    "r1.json()['result']['records'][0:3]"
   ]
  },
  {
   "cell_type": "code",
   "execution_count": 41,
   "id": "66713577-9cfd-4615-980f-2065c0f19b6d",
   "metadata": {},
   "outputs": [
    {
     "data": {
      "text/plain": [
       "3065"
      ]
     },
     "execution_count": 41,
     "metadata": {},
     "output_type": "execute_result"
    }
   ],
   "source": [
    "len(r1.json()['result']['records'])"
   ]
  },
  {
   "cell_type": "code",
   "execution_count": 38,
   "id": "b702b2f8-0d55-4eed-a538-b58b68546513",
   "metadata": {},
   "outputs": [
    {
     "data": {
      "text/html": [
       "<div>\n",
       "<style scoped>\n",
       "    .dataframe tbody tr th:only-of-type {\n",
       "        vertical-align: middle;\n",
       "    }\n",
       "\n",
       "    .dataframe tbody tr th {\n",
       "        vertical-align: top;\n",
       "    }\n",
       "\n",
       "    .dataframe thead th {\n",
       "        text-align: right;\n",
       "    }\n",
       "</style>\n",
       "<table border=\"1\" class=\"dataframe\">\n",
       "  <thead>\n",
       "    <tr style=\"text-align: right;\">\n",
       "      <th></th>\n",
       "      <th>_id</th>\n",
       "      <th>stazione_id</th>\n",
       "      <th>data</th>\n",
       "      <th>inquinante</th>\n",
       "      <th>valore</th>\n",
       "    </tr>\n",
       "  </thead>\n",
       "  <tbody>\n",
       "    <tr>\n",
       "      <th>0</th>\n",
       "      <td>1</td>\n",
       "      <td>1</td>\n",
       "      <td>2022-06-22T00:00:00</td>\n",
       "      <td>NO2</td>\n",
       "      <td>NaN</td>\n",
       "    </tr>\n",
       "    <tr>\n",
       "      <th>1</th>\n",
       "      <td>2</td>\n",
       "      <td>2</td>\n",
       "      <td>2022-06-22T00:00:00</td>\n",
       "      <td>C6H6</td>\n",
       "      <td>NaN</td>\n",
       "    </tr>\n",
       "    <tr>\n",
       "      <th>2</th>\n",
       "      <td>3</td>\n",
       "      <td>2</td>\n",
       "      <td>2022-06-22T00:00:00</td>\n",
       "      <td>NO2</td>\n",
       "      <td>25.0</td>\n",
       "    </tr>\n",
       "    <tr>\n",
       "      <th>3</th>\n",
       "      <td>4</td>\n",
       "      <td>2</td>\n",
       "      <td>2022-06-22T00:00:00</td>\n",
       "      <td>O3</td>\n",
       "      <td>116.0</td>\n",
       "    </tr>\n",
       "    <tr>\n",
       "      <th>4</th>\n",
       "      <td>5</td>\n",
       "      <td>2</td>\n",
       "      <td>2022-06-22T00:00:00</td>\n",
       "      <td>PM10</td>\n",
       "      <td>31.0</td>\n",
       "    </tr>\n",
       "  </tbody>\n",
       "</table>\n",
       "</div>"
      ],
      "text/plain": [
       "   _id  stazione_id                 data inquinante  valore\n",
       "0    1            1  2022-06-22T00:00:00        NO2     NaN\n",
       "1    2            2  2022-06-22T00:00:00       C6H6     NaN\n",
       "2    3            2  2022-06-22T00:00:00        NO2    25.0\n",
       "3    4            2  2022-06-22T00:00:00         O3   116.0\n",
       "4    5            2  2022-06-22T00:00:00       PM10    31.0"
      ]
     },
     "execution_count": 38,
     "metadata": {},
     "output_type": "execute_result"
    }
   ],
   "source": [
    "df = pd.DataFrame.from_dict(r.json()['result']['records'])\n",
    "df.head()"
   ]
  },
  {
   "cell_type": "markdown",
   "id": "70d64b53-6363-4ed0-992d-e38c6cdcd779",
   "metadata": {},
   "source": [
    "2. Check the data types for all the columns in the DataFrame. Then convert the `data` variable to a datetime with `format=\"%Y-%m-%d\"`. "
   ]
  },
  {
   "cell_type": "code",
   "execution_count": 40,
   "id": "64ca3064-06b9-4493-a480-0f6ca2f7a58f",
   "metadata": {},
   "outputs": [
    {
     "data": {
      "text/html": [
       "<div>\n",
       "<style scoped>\n",
       "    .dataframe tbody tr th:only-of-type {\n",
       "        vertical-align: middle;\n",
       "    }\n",
       "\n",
       "    .dataframe tbody tr th {\n",
       "        vertical-align: top;\n",
       "    }\n",
       "\n",
       "    .dataframe thead th {\n",
       "        text-align: right;\n",
       "    }\n",
       "</style>\n",
       "<table border=\"1\" class=\"dataframe\">\n",
       "  <thead>\n",
       "    <tr style=\"text-align: right;\">\n",
       "      <th></th>\n",
       "      <th>_id</th>\n",
       "      <th>stazione_id</th>\n",
       "      <th>data</th>\n",
       "      <th>inquinante</th>\n",
       "      <th>valore</th>\n",
       "    </tr>\n",
       "  </thead>\n",
       "  <tbody>\n",
       "    <tr>\n",
       "      <th>0</th>\n",
       "      <td>1</td>\n",
       "      <td>1</td>\n",
       "      <td>2022-06-22</td>\n",
       "      <td>NO2</td>\n",
       "      <td>NaN</td>\n",
       "    </tr>\n",
       "    <tr>\n",
       "      <th>1</th>\n",
       "      <td>2</td>\n",
       "      <td>2</td>\n",
       "      <td>2022-06-22</td>\n",
       "      <td>C6H6</td>\n",
       "      <td>NaN</td>\n",
       "    </tr>\n",
       "    <tr>\n",
       "      <th>2</th>\n",
       "      <td>3</td>\n",
       "      <td>2</td>\n",
       "      <td>2022-06-22</td>\n",
       "      <td>NO2</td>\n",
       "      <td>25.0</td>\n",
       "    </tr>\n",
       "    <tr>\n",
       "      <th>3</th>\n",
       "      <td>4</td>\n",
       "      <td>2</td>\n",
       "      <td>2022-06-22</td>\n",
       "      <td>O3</td>\n",
       "      <td>116.0</td>\n",
       "    </tr>\n",
       "    <tr>\n",
       "      <th>4</th>\n",
       "      <td>5</td>\n",
       "      <td>2</td>\n",
       "      <td>2022-06-22</td>\n",
       "      <td>PM10</td>\n",
       "      <td>31.0</td>\n",
       "    </tr>\n",
       "  </tbody>\n",
       "</table>\n",
       "</div>"
      ],
      "text/plain": [
       "   _id  stazione_id       data inquinante  valore\n",
       "0    1            1 2022-06-22        NO2     NaN\n",
       "1    2            2 2022-06-22       C6H6     NaN\n",
       "2    3            2 2022-06-22        NO2    25.0\n",
       "3    4            2 2022-06-22         O3   116.0\n",
       "4    5            2 2022-06-22       PM10    31.0"
      ]
     },
     "execution_count": 40,
     "metadata": {},
     "output_type": "execute_result"
    }
   ],
   "source": [
    "df['data']= pd.to_datetime(df['data'], format = \"%Y-%m-%d\")\n",
    "df.head()"
   ]
  },
  {
   "cell_type": "code",
   "execution_count": null,
   "id": "52699cde-c862-41a5-b1d1-83c8b7b51e58",
   "metadata": {},
   "outputs": [],
   "source": []
  },
  {
   "cell_type": "markdown",
   "id": "506488d2-6036-4e41-89ff-471024be3627",
   "metadata": {},
   "source": [
    "3. Create a new DataFrame named `df_pm10` which is a copy of `df` but contains data only for the **PM10** `inquinante`."
   ]
  },
  {
   "cell_type": "code",
   "execution_count": 53,
   "id": "4a29ac6a-3842-4129-bc8b-e7730f7e3892",
   "metadata": {},
   "outputs": [
    {
     "data": {
      "text/html": [
       "<div>\n",
       "<style scoped>\n",
       "    .dataframe tbody tr th:only-of-type {\n",
       "        vertical-align: middle;\n",
       "    }\n",
       "\n",
       "    .dataframe tbody tr th {\n",
       "        vertical-align: top;\n",
       "    }\n",
       "\n",
       "    .dataframe thead th {\n",
       "        text-align: right;\n",
       "    }\n",
       "</style>\n",
       "<table border=\"1\" class=\"dataframe\">\n",
       "  <thead>\n",
       "    <tr style=\"text-align: right;\">\n",
       "      <th></th>\n",
       "      <th>_id</th>\n",
       "      <th>stazione_id</th>\n",
       "      <th>data</th>\n",
       "      <th>inquinante</th>\n",
       "      <th>valore</th>\n",
       "    </tr>\n",
       "  </thead>\n",
       "  <tbody>\n",
       "    <tr>\n",
       "      <th>2904</th>\n",
       "      <td>2876</td>\n",
       "      <td>6</td>\n",
       "      <td>2022-01-14</td>\n",
       "      <td>PM10</td>\n",
       "      <td>106.0</td>\n",
       "    </tr>\n",
       "    <tr>\n",
       "      <th>2956</th>\n",
       "      <td>2928</td>\n",
       "      <td>6</td>\n",
       "      <td>2022-01-12</td>\n",
       "      <td>PM10</td>\n",
       "      <td>100.0</td>\n",
       "    </tr>\n",
       "    <tr>\n",
       "      <th>1713</th>\n",
       "      <td>1710</td>\n",
       "      <td>7</td>\n",
       "      <td>2022-03-18</td>\n",
       "      <td>PM10</td>\n",
       "      <td>97.0</td>\n",
       "    </tr>\n",
       "    <tr>\n",
       "      <th>2487</th>\n",
       "      <td>2454</td>\n",
       "      <td>4</td>\n",
       "      <td>2022-02-07</td>\n",
       "      <td>PM10</td>\n",
       "      <td>96.0</td>\n",
       "    </tr>\n",
       "    <tr>\n",
       "      <th>2717</th>\n",
       "      <td>2688</td>\n",
       "      <td>4</td>\n",
       "      <td>2022-01-25</td>\n",
       "      <td>PM10</td>\n",
       "      <td>90.0</td>\n",
       "    </tr>\n",
       "  </tbody>\n",
       "</table>\n",
       "</div>"
      ],
      "text/plain": [
       "       _id  stazione_id       data inquinante  valore\n",
       "2904  2876            6 2022-01-14       PM10   106.0\n",
       "2956  2928            6 2022-01-12       PM10   100.0\n",
       "1713  1710            7 2022-03-18       PM10    97.0\n",
       "2487  2454            4 2022-02-07       PM10    96.0\n",
       "2717  2688            4 2022-01-25       PM10    90.0"
      ]
     },
     "execution_count": 53,
     "metadata": {},
     "output_type": "execute_result"
    }
   ],
   "source": [
    "df_pm10 = df[df['inquinante'] == 'PM10'].copy()\n",
    "df_pm10.head()"
   ]
  },
  {
   "cell_type": "markdown",
   "id": "8c144077-4b5e-453b-bba3-8ae3e9d6bd6e",
   "metadata": {},
   "source": [
    "4. Which day was the worst in terms of levels of the **PM10** `inquinante` in the City of Milan? How many grams per cubic meter (g/m3) were detected?"
   ]
  },
  {
   "cell_type": "code",
   "execution_count": 57,
   "id": "bebb7e7c-a0b7-4b6a-989d-8ff7c652f6c5",
   "metadata": {},
   "outputs": [
    {
     "data": {
      "text/html": [
       "<div>\n",
       "<style scoped>\n",
       "    .dataframe tbody tr th:only-of-type {\n",
       "        vertical-align: middle;\n",
       "    }\n",
       "\n",
       "    .dataframe tbody tr th {\n",
       "        vertical-align: top;\n",
       "    }\n",
       "\n",
       "    .dataframe thead th {\n",
       "        text-align: right;\n",
       "    }\n",
       "</style>\n",
       "<table border=\"1\" class=\"dataframe\">\n",
       "  <thead>\n",
       "    <tr style=\"text-align: right;\">\n",
       "      <th></th>\n",
       "      <th>_id</th>\n",
       "      <th>stazione_id</th>\n",
       "      <th>data</th>\n",
       "      <th>inquinante</th>\n",
       "      <th>valore</th>\n",
       "    </tr>\n",
       "  </thead>\n",
       "  <tbody>\n",
       "    <tr>\n",
       "      <th>2904</th>\n",
       "      <td>2876</td>\n",
       "      <td>6</td>\n",
       "      <td>2022-01-14</td>\n",
       "      <td>PM10</td>\n",
       "      <td>106.0</td>\n",
       "    </tr>\n",
       "    <tr>\n",
       "      <th>2956</th>\n",
       "      <td>2928</td>\n",
       "      <td>6</td>\n",
       "      <td>2022-01-12</td>\n",
       "      <td>PM10</td>\n",
       "      <td>100.0</td>\n",
       "    </tr>\n",
       "    <tr>\n",
       "      <th>1713</th>\n",
       "      <td>1710</td>\n",
       "      <td>7</td>\n",
       "      <td>2022-03-18</td>\n",
       "      <td>PM10</td>\n",
       "      <td>97.0</td>\n",
       "    </tr>\n",
       "    <tr>\n",
       "      <th>2487</th>\n",
       "      <td>2454</td>\n",
       "      <td>4</td>\n",
       "      <td>2022-02-07</td>\n",
       "      <td>PM10</td>\n",
       "      <td>96.0</td>\n",
       "    </tr>\n",
       "    <tr>\n",
       "      <th>2717</th>\n",
       "      <td>2688</td>\n",
       "      <td>4</td>\n",
       "      <td>2022-01-25</td>\n",
       "      <td>PM10</td>\n",
       "      <td>90.0</td>\n",
       "    </tr>\n",
       "  </tbody>\n",
       "</table>\n",
       "</div>"
      ],
      "text/plain": [
       "       _id  stazione_id       data inquinante  valore\n",
       "2904  2876            6 2022-01-14       PM10   106.0\n",
       "2956  2928            6 2022-01-12       PM10   100.0\n",
       "1713  1710            7 2022-03-18       PM10    97.0\n",
       "2487  2454            4 2022-02-07       PM10    96.0\n",
       "2717  2688            4 2022-01-25       PM10    90.0"
      ]
     },
     "execution_count": 57,
     "metadata": {},
     "output_type": "execute_result"
    }
   ],
   "source": [
    "df_pm10.sort_values('valore', ascending = False).head()"
   ]
  },
  {
   "cell_type": "markdown",
   "id": "39f12d5e-8411-44c8-b697-8bb4ccc88d8b",
   "metadata": {},
   "source": [
    "5. Add a new column named `month` to the `df_pm10` DataFrame where you extract the month date-part from the `date` variable. "
   ]
  },
  {
   "cell_type": "code",
   "execution_count": 59,
   "id": "482a6294-21c7-441a-b8e5-92bae88ad0f8",
   "metadata": {},
   "outputs": [
    {
     "data": {
      "text/html": [
       "<div>\n",
       "<style scoped>\n",
       "    .dataframe tbody tr th:only-of-type {\n",
       "        vertical-align: middle;\n",
       "    }\n",
       "\n",
       "    .dataframe tbody tr th {\n",
       "        vertical-align: top;\n",
       "    }\n",
       "\n",
       "    .dataframe thead th {\n",
       "        text-align: right;\n",
       "    }\n",
       "</style>\n",
       "<table border=\"1\" class=\"dataframe\">\n",
       "  <thead>\n",
       "    <tr style=\"text-align: right;\">\n",
       "      <th></th>\n",
       "      <th>_id</th>\n",
       "      <th>stazione_id</th>\n",
       "      <th>data</th>\n",
       "      <th>inquinante</th>\n",
       "      <th>valore</th>\n",
       "      <th>month</th>\n",
       "    </tr>\n",
       "  </thead>\n",
       "  <tbody>\n",
       "    <tr>\n",
       "      <th>4</th>\n",
       "      <td>5</td>\n",
       "      <td>2</td>\n",
       "      <td>2022-06-22</td>\n",
       "      <td>PM10</td>\n",
       "      <td>31.0</td>\n",
       "      <td>6</td>\n",
       "    </tr>\n",
       "    <tr>\n",
       "      <th>12</th>\n",
       "      <td>13</td>\n",
       "      <td>4</td>\n",
       "      <td>2022-06-22</td>\n",
       "      <td>PM10</td>\n",
       "      <td>26.0</td>\n",
       "      <td>6</td>\n",
       "    </tr>\n",
       "    <tr>\n",
       "      <th>19</th>\n",
       "      <td>20</td>\n",
       "      <td>6</td>\n",
       "      <td>2022-06-22</td>\n",
       "      <td>PM10</td>\n",
       "      <td>28.0</td>\n",
       "      <td>6</td>\n",
       "    </tr>\n",
       "    <tr>\n",
       "      <th>23</th>\n",
       "      <td>24</td>\n",
       "      <td>7</td>\n",
       "      <td>2022-06-22</td>\n",
       "      <td>PM10</td>\n",
       "      <td>22.0</td>\n",
       "      <td>6</td>\n",
       "    </tr>\n",
       "    <tr>\n",
       "      <th>31</th>\n",
       "      <td>32</td>\n",
       "      <td>2</td>\n",
       "      <td>2022-06-21</td>\n",
       "      <td>PM10</td>\n",
       "      <td>34.0</td>\n",
       "      <td>6</td>\n",
       "    </tr>\n",
       "    <tr>\n",
       "      <th>...</th>\n",
       "      <td>...</td>\n",
       "      <td>...</td>\n",
       "      <td>...</td>\n",
       "      <td>...</td>\n",
       "      <td>...</td>\n",
       "      <td>...</td>\n",
       "    </tr>\n",
       "    <tr>\n",
       "      <th>3035</th>\n",
       "      <td>3036</td>\n",
       "      <td>7</td>\n",
       "      <td>2022-01-04</td>\n",
       "      <td>PM10</td>\n",
       "      <td>36.0</td>\n",
       "      <td>1</td>\n",
       "    </tr>\n",
       "    <tr>\n",
       "      <th>3043</th>\n",
       "      <td>3044</td>\n",
       "      <td>2</td>\n",
       "      <td>2022-01-03</td>\n",
       "      <td>PM10</td>\n",
       "      <td>54.0</td>\n",
       "      <td>1</td>\n",
       "    </tr>\n",
       "    <tr>\n",
       "      <th>3051</th>\n",
       "      <td>3052</td>\n",
       "      <td>4</td>\n",
       "      <td>2022-01-03</td>\n",
       "      <td>PM10</td>\n",
       "      <td>78.0</td>\n",
       "      <td>1</td>\n",
       "    </tr>\n",
       "    <tr>\n",
       "      <th>3057</th>\n",
       "      <td>3058</td>\n",
       "      <td>6</td>\n",
       "      <td>2022-01-03</td>\n",
       "      <td>PM10</td>\n",
       "      <td>77.0</td>\n",
       "      <td>1</td>\n",
       "    </tr>\n",
       "    <tr>\n",
       "      <th>3061</th>\n",
       "      <td>3062</td>\n",
       "      <td>7</td>\n",
       "      <td>2022-01-03</td>\n",
       "      <td>PM10</td>\n",
       "      <td>57.0</td>\n",
       "      <td>1</td>\n",
       "    </tr>\n",
       "  </tbody>\n",
       "</table>\n",
       "<p>468 rows × 6 columns</p>\n",
       "</div>"
      ],
      "text/plain": [
       "       _id  stazione_id       data inquinante  valore  month\n",
       "4        5            2 2022-06-22       PM10    31.0      6\n",
       "12      13            4 2022-06-22       PM10    26.0      6\n",
       "19      20            6 2022-06-22       PM10    28.0      6\n",
       "23      24            7 2022-06-22       PM10    22.0      6\n",
       "31      32            2 2022-06-21       PM10    34.0      6\n",
       "...    ...          ...        ...        ...     ...    ...\n",
       "3035  3036            7 2022-01-04       PM10    36.0      1\n",
       "3043  3044            2 2022-01-03       PM10    54.0      1\n",
       "3051  3052            4 2022-01-03       PM10    78.0      1\n",
       "3057  3058            6 2022-01-03       PM10    77.0      1\n",
       "3061  3062            7 2022-01-03       PM10    57.0      1\n",
       "\n",
       "[468 rows x 6 columns]"
      ]
     },
     "execution_count": 59,
     "metadata": {},
     "output_type": "execute_result"
    }
   ],
   "source": [
    "df_pm10['month']= pd.DatetimeIndex(df_pm10['data']).month\n",
    "df_pm10"
   ]
  },
  {
   "cell_type": "markdown",
   "id": "2d5ae301-10f2-439c-bd5e-2177d5e98987",
   "metadata": {},
   "source": [
    "6. Using the `df_pm10` DataFrame, produce a table that groups all the `months` available in the dataset (by row) and shows (for each month), the following aggregations for the column `valore`: ['min', 'mean', 'max']. "
   ]
  },
  {
   "cell_type": "code",
   "execution_count": 68,
   "id": "6c6ddd96-1ccc-4c40-b889-fe5cbe881ebf",
   "metadata": {},
   "outputs": [
    {
     "data": {
      "text/html": [
       "<div>\n",
       "<style scoped>\n",
       "    .dataframe tbody tr th:only-of-type {\n",
       "        vertical-align: middle;\n",
       "    }\n",
       "\n",
       "    .dataframe tbody tr th {\n",
       "        vertical-align: top;\n",
       "    }\n",
       "\n",
       "    .dataframe thead th {\n",
       "        text-align: right;\n",
       "    }\n",
       "</style>\n",
       "<table border=\"1\" class=\"dataframe\">\n",
       "  <thead>\n",
       "    <tr style=\"text-align: right;\">\n",
       "      <th></th>\n",
       "      <th>min</th>\n",
       "      <th>max</th>\n",
       "      <th>mean</th>\n",
       "    </tr>\n",
       "    <tr>\n",
       "      <th>month</th>\n",
       "      <th></th>\n",
       "      <th></th>\n",
       "      <th></th>\n",
       "    </tr>\n",
       "  </thead>\n",
       "  <tbody>\n",
       "    <tr>\n",
       "      <th>1</th>\n",
       "      <td>35.0</td>\n",
       "      <td>106.0</td>\n",
       "      <td>64.027027</td>\n",
       "    </tr>\n",
       "    <tr>\n",
       "      <th>2</th>\n",
       "      <td>7.0</td>\n",
       "      <td>96.0</td>\n",
       "      <td>41.253165</td>\n",
       "    </tr>\n",
       "    <tr>\n",
       "      <th>3</th>\n",
       "      <td>21.0</td>\n",
       "      <td>97.0</td>\n",
       "      <td>46.728261</td>\n",
       "    </tr>\n",
       "    <tr>\n",
       "      <th>4</th>\n",
       "      <td>8.0</td>\n",
       "      <td>53.0</td>\n",
       "      <td>25.985507</td>\n",
       "    </tr>\n",
       "    <tr>\n",
       "      <th>5</th>\n",
       "      <td>10.0</td>\n",
       "      <td>41.0</td>\n",
       "      <td>24.416667</td>\n",
       "    </tr>\n",
       "    <tr>\n",
       "      <th>6</th>\n",
       "      <td>10.0</td>\n",
       "      <td>39.0</td>\n",
       "      <td>26.173913</td>\n",
       "    </tr>\n",
       "  </tbody>\n",
       "</table>\n",
       "</div>"
      ],
      "text/plain": [
       "        min    max       mean\n",
       "month                        \n",
       "1      35.0  106.0  64.027027\n",
       "2       7.0   96.0  41.253165\n",
       "3      21.0   97.0  46.728261\n",
       "4       8.0   53.0  25.985507\n",
       "5      10.0   41.0  24.416667\n",
       "6      10.0   39.0  26.173913"
      ]
     },
     "execution_count": 68,
     "metadata": {},
     "output_type": "execute_result"
    }
   ],
   "source": [
    "df_month= df_pm10.groupby('month', as_index= False)['valore'].agg(['min', 'max', 'mean'])\n",
    "df_month"
   ]
  },
  {
   "cell_type": "markdown",
   "id": "a783bf9e-b73c-4481-9a8d-d9081d3c3558",
   "metadata": {},
   "source": [
    "7. Using the `df_pm10` DataFrame, plot a time series showing the `valore` of **PM10** for each `stazione_id` *(hint: each stazione_id will have a different line with a different color)*."
   ]
  },
  {
   "cell_type": "code",
   "execution_count": 73,
   "id": "325ebaa5-07cd-47c4-aa03-91d7f0949ff0",
   "metadata": {},
   "outputs": [
    {
     "data": {
      "text/plain": [
       "<AxesSubplot:xlabel='data', ylabel='valore'>"
      ]
     },
     "execution_count": 73,
     "metadata": {},
     "output_type": "execute_result"
    },
    {
     "data": {
      "image/png": "[encoded data removed]",
      "text/plain": [
       "<Figure size 936x504 with 1 Axes>"
      ]
     },
     "metadata": {},
     "output_type": "display_data"
    }
   ],
   "source": [
    "sns.set(rc={'figure.figsize':(13, 7)})\n",
    "sns.lineplot(x= 'data', y='valore', hue= 'stazione_id',palette='pastel', data= df_pm10)"
   ]
  },
  {
   "cell_type": "markdown",
   "id": "6ee180b9-6a4d-4b18-b115-286945a282f5",
   "metadata": {},
   "source": [
    "8. Using an HTTP request to the City of Milan's API endpoint that you will find at [this web page](https://dati.comune.milano.it/dataset/ds484_stazioni_di_monitoraggio_inquinanti_atmosferici_dellarpa_sit/resource/b301f327-7504-4efc-8b4a-5f4a29f9d0ff), retrieve its data and save it to a DataFrame named `stations`. "
   ]
  },
  {
   "cell_type": "code",
   "execution_count": 76,
   "id": "afb1ee38-2ea5-496f-a1c8-33ee2302b4f4",
   "metadata": {},
   "outputs": [
    {
     "data": {
      "text/plain": [
       "200"
      ]
     },
     "execution_count": 76,
     "metadata": {},
     "output_type": "execute_result"
    }
   ],
   "source": [
    "url1= 'https://dati.comune.milano.it/api/3/action/datastore_search?resource_id=b301f327-7504-4efc-8b4a-5f4a29f9d0ff&limit=15'\n",
    "r2= requests.get(url1)\n",
    "r2.status_code"
   ]
  },
  {
   "cell_type": "code",
   "execution_count": 79,
   "id": "fa696199-682f-46ef-8437-530a9ad994cb",
   "metadata": {},
   "outputs": [
    {
     "data": {
      "text/plain": [
       "[{'_id': 1,\n",
       "  'id_amat': 1,\n",
       "  'nome': 'p.le Abbiategrasso',\n",
       "  'id_arpa': 126,\n",
       "  'inizio_operativita': '1900-01-01T00:00:00',\n",
       "  'fine_operativita': '2017-08-31T00:00:00',\n",
       "  'inquinanti': 'NO2',\n",
       "  'LONG_X_4326': 9.18218994140625,\n",
       "  'LAT_Y_4326': 45.432300567627,\n",
       "  'Location': '(45.432300567627, 9.18218994140625)'}]"
      ]
     },
     "execution_count": 79,
     "metadata": {},
     "output_type": "execute_result"
    }
   ],
   "source": [
    "r2.json()['result']['records'][0:1]"
   ]
  },
  {
   "cell_type": "code",
   "execution_count": 81,
   "id": "45418a0f-2692-41f7-98c2-1d11c7f62fd3",
   "metadata": {},
   "outputs": [
    {
     "data": {
      "text/html": [
       "<div>\n",
       "<style scoped>\n",
       "    .dataframe tbody tr th:only-of-type {\n",
       "        vertical-align: middle;\n",
       "    }\n",
       "\n",
       "    .dataframe tbody tr th {\n",
       "        vertical-align: top;\n",
       "    }\n",
       "\n",
       "    .dataframe thead th {\n",
       "        text-align: right;\n",
       "    }\n",
       "</style>\n",
       "<table border=\"1\" class=\"dataframe\">\n",
       "  <thead>\n",
       "    <tr style=\"text-align: right;\">\n",
       "      <th></th>\n",
       "      <th>_id</th>\n",
       "      <th>id_amat</th>\n",
       "      <th>nome</th>\n",
       "      <th>id_arpa</th>\n",
       "      <th>inizio_operativita</th>\n",
       "      <th>fine_operativita</th>\n",
       "      <th>inquinanti</th>\n",
       "      <th>LONG_X_4326</th>\n",
       "      <th>LAT_Y_4326</th>\n",
       "      <th>Location</th>\n",
       "    </tr>\n",
       "  </thead>\n",
       "  <tbody>\n",
       "    <tr>\n",
       "      <th>0</th>\n",
       "      <td>1</td>\n",
       "      <td>1</td>\n",
       "      <td>p.le Abbiategrasso</td>\n",
       "      <td>126</td>\n",
       "      <td>1900-01-01T00:00:00</td>\n",
       "      <td>2017-08-31T00:00:00</td>\n",
       "      <td>NO2</td>\n",
       "      <td>9.18219</td>\n",
       "      <td>45.432301</td>\n",
       "      <td>(45.432300567627, 9.18218994140625)</td>\n",
       "    </tr>\n",
       "    <tr>\n",
       "      <th>1</th>\n",
       "      <td>2</td>\n",
       "      <td>2</td>\n",
       "      <td>via Pascal *</td>\n",
       "      <td>100</td>\n",
       "      <td>1900-01-01T00:00:00</td>\n",
       "      <td>2099-12-31T00:00:00</td>\n",
       "      <td>O3, PM10, NO2, PM25, SO2, C6H6, SO2</td>\n",
       "      <td>9.23478</td>\n",
       "      <td>45.474098</td>\n",
       "      <td>(45.4740982055664, 9.23478031158447)</td>\n",
       "    </tr>\n",
       "    <tr>\n",
       "      <th>2</th>\n",
       "      <td>3</td>\n",
       "      <td>3</td>\n",
       "      <td>viale Liguria</td>\n",
       "      <td>107</td>\n",
       "      <td>1900-01-01T00:00:00</td>\n",
       "      <td>2099-12-31T00:00:00</td>\n",
       "      <td>NO2, CO_8h</td>\n",
       "      <td>9.16944</td>\n",
       "      <td>45.444199</td>\n",
       "      <td>(45.4441986083984, 9.16944026947021)</td>\n",
       "    </tr>\n",
       "    <tr>\n",
       "      <th>3</th>\n",
       "      <td>4</td>\n",
       "      <td>4</td>\n",
       "      <td>viale Marche</td>\n",
       "      <td>2</td>\n",
       "      <td>1900-01-01T00:00:00</td>\n",
       "      <td>2099-12-31T00:00:00</td>\n",
       "      <td>NO2, PM10, PM25, CO_8h, C6H6</td>\n",
       "      <td>9.19084</td>\n",
       "      <td>45.496300</td>\n",
       "      <td>(45.4962997436523, 9.19083976745605)</td>\n",
       "    </tr>\n",
       "    <tr>\n",
       "      <th>4</th>\n",
       "      <td>5</td>\n",
       "      <td>5</td>\n",
       "      <td>Parco Lambro</td>\n",
       "      <td>124</td>\n",
       "      <td>1900-01-01T00:00:00</td>\n",
       "      <td>2017-08-31T00:00:00</td>\n",
       "      <td>O3, NO2</td>\n",
       "      <td>9.24730</td>\n",
       "      <td>45.499599</td>\n",
       "      <td>(45.4995994567871, 9.24730014801025)</td>\n",
       "    </tr>\n",
       "    <tr>\n",
       "      <th>5</th>\n",
       "      <td>6</td>\n",
       "      <td>6</td>\n",
       "      <td>via Senato *</td>\n",
       "      <td>125</td>\n",
       "      <td>1900-01-01T00:00:00</td>\n",
       "      <td>2099-12-31T00:00:00</td>\n",
       "      <td>PM25, C6H6, CO_8h, PM10, NO2</td>\n",
       "      <td>9.19792</td>\n",
       "      <td>45.470501</td>\n",
       "      <td>(45.4705009460449, 9.19791984558105)</td>\n",
       "    </tr>\n",
       "    <tr>\n",
       "      <th>6</th>\n",
       "      <td>7</td>\n",
       "      <td>7</td>\n",
       "      <td>Verziere</td>\n",
       "      <td>85</td>\n",
       "      <td>1900-01-01T00:00:00</td>\n",
       "      <td>2099-12-31T00:00:00</td>\n",
       "      <td>PM10, O3, NO2, CO_8h</td>\n",
       "      <td>9.19534</td>\n",
       "      <td>45.463501</td>\n",
       "      <td>(45.4635009765625, 9.19534015655518)</td>\n",
       "    </tr>\n",
       "    <tr>\n",
       "      <th>7</th>\n",
       "      <td>8</td>\n",
       "      <td>8</td>\n",
       "      <td>p.le Zavattari</td>\n",
       "      <td>7</td>\n",
       "      <td>1900-01-01T00:00:00</td>\n",
       "      <td>2017-08-31T00:00:00</td>\n",
       "      <td>CO_8h, C6H6, NO2</td>\n",
       "      <td>9.14177</td>\n",
       "      <td>45.476101</td>\n",
       "      <td>(45.4761009216309, 9.141770362854)</td>\n",
       "    </tr>\n",
       "    <tr>\n",
       "      <th>8</th>\n",
       "      <td>9</td>\n",
       "      <td>9</td>\n",
       "      <td>via Juvara</td>\n",
       "      <td>7</td>\n",
       "      <td>1900-01-01T00:00:00</td>\n",
       "      <td>2007-06-11T00:00:00</td>\n",
       "      <td>PM10, NO2, PM25, SO2, O3</td>\n",
       "      <td>9.22045</td>\n",
       "      <td>45.473499</td>\n",
       "      <td>(45.4734992980957, 9.22045040130615)</td>\n",
       "    </tr>\n",
       "  </tbody>\n",
       "</table>\n",
       "</div>"
      ],
      "text/plain": [
       "   _id  id_amat                nome  id_arpa   inizio_operativita  \\\n",
       "0    1        1  p.le Abbiategrasso      126  1900-01-01T00:00:00   \n",
       "1    2        2        via Pascal *      100  1900-01-01T00:00:00   \n",
       "2    3        3       viale Liguria      107  1900-01-01T00:00:00   \n",
       "3    4        4        viale Marche        2  1900-01-01T00:00:00   \n",
       "4    5        5        Parco Lambro      124  1900-01-01T00:00:00   \n",
       "5    6        6        via Senato *      125  1900-01-01T00:00:00   \n",
       "6    7        7            Verziere       85  1900-01-01T00:00:00   \n",
       "7    8        8      p.le Zavattari        7  1900-01-01T00:00:00   \n",
       "8    9        9          via Juvara        7  1900-01-01T00:00:00   \n",
       "\n",
       "      fine_operativita                           inquinanti  LONG_X_4326  \\\n",
       "0  2017-08-31T00:00:00                                  NO2      9.18219   \n",
       "1  2099-12-31T00:00:00  O3, PM10, NO2, PM25, SO2, C6H6, SO2      9.23478   \n",
       "2  2099-12-31T00:00:00                           NO2, CO_8h      9.16944   \n",
       "3  2099-12-31T00:00:00         NO2, PM10, PM25, CO_8h, C6H6      9.19084   \n",
       "4  2017-08-31T00:00:00                              O3, NO2      9.24730   \n",
       "5  2099-12-31T00:00:00         PM25, C6H6, CO_8h, PM10, NO2      9.19792   \n",
       "6  2099-12-31T00:00:00                 PM10, O3, NO2, CO_8h      9.19534   \n",
       "7  2017-08-31T00:00:00                     CO_8h, C6H6, NO2      9.14177   \n",
       "8  2007-06-11T00:00:00             PM10, NO2, PM25, SO2, O3      9.22045   \n",
       "\n",
       "   LAT_Y_4326                              Location  \n",
       "0   45.432301   (45.432300567627, 9.18218994140625)  \n",
       "1   45.474098  (45.4740982055664, 9.23478031158447)  \n",
       "2   45.444199  (45.4441986083984, 9.16944026947021)  \n",
       "3   45.496300  (45.4962997436523, 9.19083976745605)  \n",
       "4   45.499599  (45.4995994567871, 9.24730014801025)  \n",
       "5   45.470501  (45.4705009460449, 9.19791984558105)  \n",
       "6   45.463501  (45.4635009765625, 9.19534015655518)  \n",
       "7   45.476101    (45.4761009216309, 9.141770362854)  \n",
       "8   45.473499  (45.4734992980957, 9.22045040130615)  "
      ]
     },
     "execution_count": 81,
     "metadata": {},
     "output_type": "execute_result"
    }
   ],
   "source": [
    "stations= pd.DataFrame.from_dict(r2.json()['result']['records'])\n",
    "stations"
   ]
  },
  {
   "cell_type": "markdown",
   "id": "67502f24-4245-4941-911b-9bab5b60de77",
   "metadata": {},
   "source": [
    "9. Which station's `nome` is the one that recorded the highest levels of **PM10** as recorded in the `df_pm10` DataFrame?"
   ]
  },
  {
   "cell_type": "code",
   "execution_count": 86,
   "id": "176a6cd8-d416-442e-839c-adc92afd2be8",
   "metadata": {},
   "outputs": [
    {
     "data": {
      "text/html": [
       "<div>\n",
       "<style scoped>\n",
       "    .dataframe tbody tr th:only-of-type {\n",
       "        vertical-align: middle;\n",
       "    }\n",
       "\n",
       "    .dataframe tbody tr th {\n",
       "        vertical-align: top;\n",
       "    }\n",
       "\n",
       "    .dataframe thead th {\n",
       "        text-align: right;\n",
       "    }\n",
       "</style>\n",
       "<table border=\"1\" class=\"dataframe\">\n",
       "  <thead>\n",
       "    <tr style=\"text-align: right;\">\n",
       "      <th></th>\n",
       "      <th>_id</th>\n",
       "      <th>stazione_id</th>\n",
       "      <th>data</th>\n",
       "      <th>inquinante</th>\n",
       "      <th>valore</th>\n",
       "      <th>month</th>\n",
       "    </tr>\n",
       "  </thead>\n",
       "  <tbody>\n",
       "    <tr>\n",
       "      <th>4</th>\n",
       "      <td>5</td>\n",
       "      <td>2</td>\n",
       "      <td>2022-06-22</td>\n",
       "      <td>PM10</td>\n",
       "      <td>31.0</td>\n",
       "      <td>6</td>\n",
       "    </tr>\n",
       "    <tr>\n",
       "      <th>12</th>\n",
       "      <td>13</td>\n",
       "      <td>4</td>\n",
       "      <td>2022-06-22</td>\n",
       "      <td>PM10</td>\n",
       "      <td>26.0</td>\n",
       "      <td>6</td>\n",
       "    </tr>\n",
       "    <tr>\n",
       "      <th>19</th>\n",
       "      <td>20</td>\n",
       "      <td>6</td>\n",
       "      <td>2022-06-22</td>\n",
       "      <td>PM10</td>\n",
       "      <td>28.0</td>\n",
       "      <td>6</td>\n",
       "    </tr>\n",
       "    <tr>\n",
       "      <th>23</th>\n",
       "      <td>24</td>\n",
       "      <td>7</td>\n",
       "      <td>2022-06-22</td>\n",
       "      <td>PM10</td>\n",
       "      <td>22.0</td>\n",
       "      <td>6</td>\n",
       "    </tr>\n",
       "    <tr>\n",
       "      <th>31</th>\n",
       "      <td>32</td>\n",
       "      <td>2</td>\n",
       "      <td>2022-06-21</td>\n",
       "      <td>PM10</td>\n",
       "      <td>34.0</td>\n",
       "      <td>6</td>\n",
       "    </tr>\n",
       "  </tbody>\n",
       "</table>\n",
       "</div>"
      ],
      "text/plain": [
       "    _id  stazione_id       data inquinante  valore  month\n",
       "4     5            2 2022-06-22       PM10    31.0      6\n",
       "12   13            4 2022-06-22       PM10    26.0      6\n",
       "19   20            6 2022-06-22       PM10    28.0      6\n",
       "23   24            7 2022-06-22       PM10    22.0      6\n",
       "31   32            2 2022-06-21       PM10    34.0      6"
      ]
     },
     "execution_count": 86,
     "metadata": {},
     "output_type": "execute_result"
    }
   ],
   "source": [
    "df_pm10.head()"
   ]
  },
  {
   "cell_type": "code",
   "execution_count": 92,
   "id": "3a18f8a5-8221-4b66-aa7e-123407ca5e54",
   "metadata": {},
   "outputs": [
    {
     "data": {
      "text/html": [
       "<div>\n",
       "<style scoped>\n",
       "    .dataframe tbody tr th:only-of-type {\n",
       "        vertical-align: middle;\n",
       "    }\n",
       "\n",
       "    .dataframe tbody tr th {\n",
       "        vertical-align: top;\n",
       "    }\n",
       "\n",
       "    .dataframe thead th {\n",
       "        text-align: right;\n",
       "    }\n",
       "</style>\n",
       "<table border=\"1\" class=\"dataframe\">\n",
       "  <thead>\n",
       "    <tr style=\"text-align: right;\">\n",
       "      <th></th>\n",
       "      <th>stazione_id</th>\n",
       "      <th>data</th>\n",
       "      <th>valore</th>\n",
       "      <th>_id</th>\n",
       "      <th>nome</th>\n",
       "      <th>inquinanti</th>\n",
       "    </tr>\n",
       "  </thead>\n",
       "  <tbody>\n",
       "    <tr>\n",
       "      <th>442</th>\n",
       "      <td>6</td>\n",
       "      <td>2022-01-14</td>\n",
       "      <td>106.0</td>\n",
       "      <td>6</td>\n",
       "      <td>via Senato *</td>\n",
       "      <td>PM25, C6H6, CO_8h, PM10, NO2</td>\n",
       "    </tr>\n",
       "    <tr>\n",
       "      <th>450</th>\n",
       "      <td>6</td>\n",
       "      <td>2022-01-12</td>\n",
       "      <td>100.0</td>\n",
       "      <td>6</td>\n",
       "      <td>via Senato *</td>\n",
       "      <td>PM25, C6H6, CO_8h, PM10, NO2</td>\n",
       "    </tr>\n",
       "    <tr>\n",
       "      <th>260</th>\n",
       "      <td>7</td>\n",
       "      <td>2022-03-18</td>\n",
       "      <td>97.0</td>\n",
       "      <td>7</td>\n",
       "      <td>Verziere</td>\n",
       "      <td>PM10, O3, NO2, CO_8h</td>\n",
       "    </tr>\n",
       "    <tr>\n",
       "      <th>378</th>\n",
       "      <td>4</td>\n",
       "      <td>2022-02-07</td>\n",
       "      <td>96.0</td>\n",
       "      <td>4</td>\n",
       "      <td>viale Marche</td>\n",
       "      <td>NO2, PM10, PM25, CO_8h, C6H6</td>\n",
       "    </tr>\n",
       "    <tr>\n",
       "      <th>413</th>\n",
       "      <td>4</td>\n",
       "      <td>2022-01-25</td>\n",
       "      <td>90.0</td>\n",
       "      <td>4</td>\n",
       "      <td>viale Marche</td>\n",
       "      <td>NO2, PM10, PM25, CO_8h, C6H6</td>\n",
       "    </tr>\n",
       "    <tr>\n",
       "      <th>...</th>\n",
       "      <td>...</td>\n",
       "      <td>...</td>\n",
       "      <td>...</td>\n",
       "      <td>...</td>\n",
       "      <td>...</td>\n",
       "      <td>...</td>\n",
       "    </tr>\n",
       "    <tr>\n",
       "      <th>205</th>\n",
       "      <td>2</td>\n",
       "      <td>2022-04-06</td>\n",
       "      <td>NaN</td>\n",
       "      <td>2</td>\n",
       "      <td>via Pascal *</td>\n",
       "      <td>O3, PM10, NO2, PM25, SO2, C6H6, SO2</td>\n",
       "    </tr>\n",
       "    <tr>\n",
       "      <th>209</th>\n",
       "      <td>2</td>\n",
       "      <td>2022-04-05</td>\n",
       "      <td>NaN</td>\n",
       "      <td>2</td>\n",
       "      <td>via Pascal *</td>\n",
       "      <td>O3, PM10, NO2, PM25, SO2, C6H6, SO2</td>\n",
       "    </tr>\n",
       "    <tr>\n",
       "      <th>379</th>\n",
       "      <td>6</td>\n",
       "      <td>2022-02-07</td>\n",
       "      <td>NaN</td>\n",
       "      <td>6</td>\n",
       "      <td>via Senato *</td>\n",
       "      <td>PM25, C6H6, CO_8h, PM10, NO2</td>\n",
       "    </tr>\n",
       "    <tr>\n",
       "      <th>452</th>\n",
       "      <td>2</td>\n",
       "      <td>2022-01-11</td>\n",
       "      <td>NaN</td>\n",
       "      <td>2</td>\n",
       "      <td>via Pascal *</td>\n",
       "      <td>O3, PM10, NO2, PM25, SO2, C6H6, SO2</td>\n",
       "    </tr>\n",
       "    <tr>\n",
       "      <th>456</th>\n",
       "      <td>2</td>\n",
       "      <td>2022-01-10</td>\n",
       "      <td>NaN</td>\n",
       "      <td>2</td>\n",
       "      <td>via Pascal *</td>\n",
       "      <td>O3, PM10, NO2, PM25, SO2, C6H6, SO2</td>\n",
       "    </tr>\n",
       "  </tbody>\n",
       "</table>\n",
       "<p>468 rows × 6 columns</p>\n",
       "</div>"
      ],
      "text/plain": [
       "     stazione_id       data  valore  _id          nome  \\\n",
       "442            6 2022-01-14   106.0    6  via Senato *   \n",
       "450            6 2022-01-12   100.0    6  via Senato *   \n",
       "260            7 2022-03-18    97.0    7      Verziere   \n",
       "378            4 2022-02-07    96.0    4  viale Marche   \n",
       "413            4 2022-01-25    90.0    4  viale Marche   \n",
       "..           ...        ...     ...  ...           ...   \n",
       "205            2 2022-04-06     NaN    2  via Pascal *   \n",
       "209            2 2022-04-05     NaN    2  via Pascal *   \n",
       "379            6 2022-02-07     NaN    6  via Senato *   \n",
       "452            2 2022-01-11     NaN    2  via Pascal *   \n",
       "456            2 2022-01-10     NaN    2  via Pascal *   \n",
       "\n",
       "                              inquinanti  \n",
       "442         PM25, C6H6, CO_8h, PM10, NO2  \n",
       "450         PM25, C6H6, CO_8h, PM10, NO2  \n",
       "260                 PM10, O3, NO2, CO_8h  \n",
       "378         NO2, PM10, PM25, CO_8h, C6H6  \n",
       "413         NO2, PM10, PM25, CO_8h, C6H6  \n",
       "..                                   ...  \n",
       "205  O3, PM10, NO2, PM25, SO2, C6H6, SO2  \n",
       "209  O3, PM10, NO2, PM25, SO2, C6H6, SO2  \n",
       "379         PM25, C6H6, CO_8h, PM10, NO2  \n",
       "452  O3, PM10, NO2, PM25, SO2, C6H6, SO2  \n",
       "456  O3, PM10, NO2, PM25, SO2, C6H6, SO2  \n",
       "\n",
       "[468 rows x 6 columns]"
      ]
     },
     "execution_count": 92,
     "metadata": {},
     "output_type": "execute_result"
    }
   ],
   "source": [
    "df_pm10_new= df_pm10[['stazione_id', 'data', 'valore']].merge(stations[['_id', 'nome', 'inquinanti']], how='left', left_on='stazione_id', right_on='_id')\n",
    "df_pm10_new.sort_values('valore', ascending = False)"
   ]
  },
  {
   "cell_type": "code",
   "execution_count": null,
   "id": "0ddf6ab5-8745-4621-b2e0-9bd67f168ca3",
   "metadata": {},
   "outputs": [],
   "source": [
    "### match = match.merge(team[['team_api_id','team_long_name']], how='left', left_on='away_team_api_id', right_on='team_api_id')"
   ]
  }
 ],
 "metadata": {
  "kernelspec": {
   "display_name": "Python 3 (ipykernel)",
   "language": "python",
   "name": "python3"
  },
  "language_info": {
   "codemirror_mode": {
    "name": "ipython",
    "version": 3
   },
   "file_extension": ".py",
   "mimetype": "text/x-python",
   "name": "python",
   "nbconvert_exporter": "python",
   "pygments_lexer": "ipython3",
   "version": "3.9.12"
  }
 },
 "nbformat": 4,
 "nbformat_minor": 5
}
